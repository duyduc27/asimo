{
 "cells": [
  {
   "cell_type": "markdown",
   "metadata": {},
   "source": [
    "## 1.1 Composition"
   ]
  },
  {
   "cell_type": "markdown",
   "metadata": {},
   "source": [
    "Cho đến giờ ta đã học qua một vài ví dụ về việc composition (kết hợp). Ví dụ như gọi lên những phần tử riêng lẽ và kết hợp chúng lại thành một chunks lớn. Ví dụ:<br>\n",
    "```python\n",
    "response = input(\"What is your radius? \")\n",
    "r = float(response)\n",
    "area = 3.14159 * r**2\n",
    "print(\"The area is \", area)\n",
    "```\n",
    "thành:<br>\n",
    "```python\n",
    "print(\"The area is \", 3.14159* float(input(\"What is your radius? \"))**2)\n",
    "```\n",
    "Hay cấu trúc là các lệnh lồng vào nhau, chẳng hạn đặt lệnh: `if` trong vòng lặp `while`, trong lệnh `if` còn có lệnh `if` khác nữa.<br>\n",
    "Chúng ta cũng từng học về lists và objects. Nên đừng ngạc nhiên khi chúng ta có thể tạo lists của các objects. Hay tạo objects chứa các lists, hoặc lists chứa lists hay objects chứa objects."
   ]
  },
  {
   "cell_type": "markdown",
   "metadata": {},
   "source": [
    "## 1.2 Card objects"
   ]
  },
  {
   "cell_type": "markdown",
   "metadata": {},
   "source": [
    "ví dụ ở trong bộ bài thì có các suits: Spades, Hearts, Diamonds, và Clubs (Bích, Cơ, Rô, Chuồn). Và có các ranks: Ace (xì), 2, 3, 4, 5, 6, 7, 8, 9, 10, Jack (bồi), Queen(đầm), và King (già).<br>\n",
    "Nếu chúng ta muốn định ra đối tượng cho việc chơi bài. Hiển nhiên là nó phải có các attributes là `suit` và `rank` . Một vấn đề của việc thi hành là không dễ so sánh các lá bài có rank cao hơn hoặc suit cao hơn.<br>\n",
    "Một cách thay thế là sử dụng integers để encode cái ranks và suits này. Khi encode thì nó sẽ bị mã hóa hoặc bị dịch sang một mã bí mật. Những gì một nhà khoa học máy tính hiểu là mapping một chuôĩ các số và items muốn đại diện. Ví dụ:<br>\n",
    "```\n",
    "Spades   -->  3\n",
    "Hearts   -->  2\n",
    "Diamonds -->  1\n",
    "Clubs    -->  0\n",
    "```\n",
    "Mapping cho suits là theo thứ tự số nguyên. Cho rank gì dễ hơn, bởi bộ bài dạng số thì mapping sang số tương ứng, trừ những lá có hình\n",
    "```\n",
    "Jack   -->  11\n",
    "Queen  -->  12\n",
    "King   -->  13\n",
    "```"
   ]
  },
  {
   "cell_type": "code",
   "execution_count": 2,
   "metadata": {},
   "outputs": [],
   "source": [
    "class Card:\n",
    "    def __init__(self, suit=0, rank=0):\n",
    "        self.suit = suit\n",
    "        self.rank = rank"
   ]
  },
  {
   "cell_type": "markdown",
   "metadata": {},
   "source": [
    "Ví dụ để tạo objects: 3 chuồn và bồi rô thì:"
   ]
  },
  {
   "cell_type": "code",
   "execution_count": 3,
   "metadata": {},
   "outputs": [],
   "source": [
    "three_of_clubs = Card(0, 3) # 3 chuồn\n",
    "card1 = Card(1, 11) # J rô"
   ]
  },
  {
   "cell_type": "markdown",
   "metadata": {},
   "source": [
    "## 1.3  Class attributes and the `__str__` method"
   ]
  },
  {
   "cell_type": "markdown",
   "metadata": {},
   "source": [
    "Theo đó để print Card object để mọi người có thể đọc được, ta cần map từ integer sang string. Một cách tự nhiên để làm việc này là dùng một list các strings"
   ]
  },
  {
   "cell_type": "code",
   "execution_count": 4,
   "metadata": {},
   "outputs": [],
   "source": [
    "class Card:\n",
    "    suits = ['Clubs', 'Diamonds', 'Hearts', 'Spades']\n",
    "    ranks = ['narf', 'Ace', '2', '3', '4', '5', '6', '7', '8', '9', '10', 'Jack', 'Queen', 'King']\n",
    "    \n",
    "    def __init__(self, suit=0, rank=0):\n",
    "        self.suit = suit\n",
    "        self.rank = rank\n",
    "    \n",
    "    def __str__(self):\n",
    "        return (self.ranks[self.rank] + ' of ' + self.suits[self.suit])\n",
    "    "
   ]
  },
  {
   "cell_type": "code",
   "execution_count": 5,
   "metadata": {},
   "outputs": [
    {
     "name": "stdout",
     "output_type": "stream",
     "text": [
      "Jack of Diamonds\n"
     ]
    }
   ],
   "source": [
    "card1 = Card(1, 11)\n",
    "print(card1)"
   ]
  },
  {
   "cell_type": "code",
   "execution_count": 6,
   "metadata": {},
   "outputs": [
    {
     "name": "stdout",
     "output_type": "stream",
     "text": [
      "3 of Clubs\n"
     ]
    }
   ],
   "source": [
    "card2 = Card(0, 3)\n",
    "print(card2)"
   ]
  },
  {
   "cell_type": "markdown",
   "metadata": {},
   "source": [
    "Lý do phải thêm 'narf' là phần tử đầu tiên của list rank, là bởi nó giữ chỗ cho index thứ 0. Mà index này không được sử dụng, valid rank là từ 1 đến 13"
   ]
  },
  {
   "cell_type": "markdown",
   "metadata": {},
   "source": [
    "Class attributes như  `suits` được share với mọi class object. Nên mặt lợi là ta có thể dùng bất kì Card object nào để truy cập class attributes. Ví dụ:"
   ]
  },
  {
   "cell_type": "code",
   "execution_count": 7,
   "metadata": {},
   "outputs": [
    {
     "name": "stdout",
     "output_type": "stream",
     "text": [
      "Diamonds\n"
     ]
    }
   ],
   "source": [
    "print(card2.suits[1])"
   ]
  },
  {
   "cell_type": "markdown",
   "metadata": {},
   "source": [
    "Bởi vì mọi thực thể của Card đều trỏ tới attribute của cùng class đó. Điều này mang đến bất lợi là khi ta thay đổi một class attribute thì nó áp dụng đến mọi phần tử trong class đó. Ví dụ ở lá J rô:"
   ]
  },
  {
   "cell_type": "code",
   "execution_count": 8,
   "metadata": {},
   "outputs": [
    {
     "name": "stdout",
     "output_type": "stream",
     "text": [
      "Jack of Swirly Whales\n"
     ]
    }
   ],
   "source": [
    "card1.suits[1] = \"Swirly Whales\"\n",
    "print(card1)"
   ]
  },
  {
   "cell_type": "markdown",
   "metadata": {},
   "source": [
    "Vấn đề lại giờ mọi \"Diamonds\" đều trở thành \"Swirly Whales\""
   ]
  },
  {
   "cell_type": "code",
   "execution_count": 9,
   "metadata": {},
   "outputs": [
    {
     "name": "stdout",
     "output_type": "stream",
     "text": [
      "Queen of Swirly Whales\n"
     ]
    }
   ],
   "source": [
    "card3 = Card(1, 12) # Đầm rô hay Queen of Diamonds\n",
    "print(card3)"
   ]
  },
  {
   "cell_type": "markdown",
   "metadata": {},
   "source": [
    "Nó thì thường không phải là ý hay để chỉnh sửa lại class attributes"
   ]
  },
  {
   "cell_type": "code",
   "execution_count": null,
   "metadata": {},
   "outputs": [],
   "source": []
  }
 ],
 "metadata": {
  "kernelspec": {
   "display_name": "Python 3",
   "language": "python",
   "name": "python3"
  },
  "language_info": {
   "codemirror_mode": {
    "name": "ipython",
    "version": 3
   },
   "file_extension": ".py",
   "mimetype": "text/x-python",
   "name": "python",
   "nbconvert_exporter": "python",
   "pygments_lexer": "ipython3",
   "version": "3.6.6"
  }
 },
 "nbformat": 4,
 "nbformat_minor": 2
}
