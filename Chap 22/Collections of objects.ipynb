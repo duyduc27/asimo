{
 "cells": [
  {
   "cell_type": "markdown",
   "metadata": {},
   "source": [
    "## 1.1 Composition"
   ]
  },
  {
   "cell_type": "markdown",
   "metadata": {},
   "source": [
    "Cho đến giờ ta đã học qua một vài ví dụ về việc composition (kết hợp). Ví dụ như gọi lên những phần tử riêng lẽ và kết hợp chúng lại thành một chunks lớn. Ví dụ:<br>\n",
    "```python\n",
    "response = input(\"What is your radius? \")\n",
    "r = float(response)\n",
    "area = 3.14159 * r**2\n",
    "print(\"The area is \", area)\n",
    "```\n",
    "thành:<br>\n",
    "```python\n",
    "print(\"The area is \", 3.14159* float(input(\"What is your radius? \"))**2)\n",
    "```\n",
    "Hay cấu trúc là các lệnh lồng vào nhau, chẳng hạn đặt lệnh: `if` trong vòng lặp `while`, trong lệnh `if` còn có lệnh `if` khác nữa.<br>\n",
    "Chúng ta cũng từng học về lists và objects. Nên đừng ngạc nhiên khi chúng ta có thể tạo lists của các objects. Hay tạo objects chứa các lists, hoặc lists chứa lists hay objects chứa objects."
   ]
  },
  {
   "cell_type": "markdown",
   "metadata": {},
   "source": [
    "## 1.2 Card objects"
   ]
  },
  {
   "cell_type": "markdown",
   "metadata": {},
   "source": [
    "ví dụ ở trong bộ bài thì có các suits: Spades, Hearts, Diamonds, và Clubs (Bích, Cơ, Rô, Chuồn). Và có các ranks: Ace (xì), 2, 3, 4, 5, 6, 7, 8, 9, 10, Jack (bồi), Queen(đầm), và King (già).<br>\n",
    "Nếu chúng ta muốn định ra đối tượng cho việc chơi bài. Hiển nhiên là nó phải có các attributes là `suit` và `rank` . Một vấn đề của việc thi hành là không dễ so sánh các lá bài có rank cao hơn hoặc suit cao hơn.<br>\n",
    "Một cách thay thế là sử dụng integers để encode cái ranks và suits này. Khi encode thì nó sẽ bị mã hóa hoặc bị dịch sang một mã bí mật. Những gì một nhà khoa học máy tính hiểu là mapping một chuôĩ các số và items muốn đại diện. Ví dụ:<br>\n",
    "```\n",
    "Spades   -->  3\n",
    "Hearts   -->  2\n",
    "Diamonds -->  1\n",
    "Clubs    -->  0\n",
    "```\n",
    "Mapping cho suits là theo thứ tự số nguyên. Cho rank gì dễ hơn, bởi bộ bài dạng số thì mapping sang số tương ứng, trừ những lá có hình\n",
    "```\n",
    "Jack   -->  11\n",
    "Queen  -->  12\n",
    "King   -->  13\n",
    "```"
   ]
  },
  {
   "cell_type": "code",
   "execution_count": 2,
   "metadata": {},
   "outputs": [],
   "source": [
    "class Card:\n",
    "    def __init__(self, suit=0, rank=0):\n",
    "        self.suit = suit\n",
    "        self.rank = rank"
   ]
  },
  {
   "cell_type": "markdown",
   "metadata": {},
   "source": [
    "Ví dụ để tạo objects: 3 chuồn và bồi rô thì:"
   ]
  },
  {
   "cell_type": "code",
   "execution_count": 3,
   "metadata": {},
   "outputs": [],
   "source": [
    "three_of_clubs = Card(0, 3) # 3 chuồn\n",
    "card1 = Card(1, 11) # J rô"
   ]
  },
  {
   "cell_type": "markdown",
   "metadata": {},
   "source": [
    "## 1.3  Class attributes and the `__str__` method"
   ]
  },
  {
   "cell_type": "markdown",
   "metadata": {},
   "source": [
    "Theo đó để print Card object để mọi người có thể đọc được, ta cần map từ integer sang string. Một cách tự nhiên để làm việc này là dùng một list các strings"
   ]
  },
  {
   "cell_type": "code",
   "execution_count": 4,
   "metadata": {},
   "outputs": [],
   "source": [
    "class Card:\n",
    "    suits = ['Clubs', 'Diamonds', 'Hearts', 'Spades']\n",
    "    ranks = ['narf', 'Ace', '2', '3', '4', '5', '6', '7', '8', '9', '10', 'Jack', 'Queen', 'King']\n",
    "    \n",
    "    def __init__(self, suit=0, rank=0):\n",
    "        self.suit = suit\n",
    "        self.rank = rank\n",
    "    \n",
    "    def __str__(self):\n",
    "        return (self.ranks[self.rank] + ' of ' + self.suits[self.suit])\n",
    "    "
   ]
  },
  {
   "cell_type": "code",
   "execution_count": 5,
   "metadata": {},
   "outputs": [
    {
     "name": "stdout",
     "output_type": "stream",
     "text": [
      "Jack of Diamonds\n"
     ]
    }
   ],
   "source": [
    "card1 = Card(1, 11)\n",
    "print(card1)"
   ]
  },
  {
   "cell_type": "code",
   "execution_count": 6,
   "metadata": {},
   "outputs": [
    {
     "name": "stdout",
     "output_type": "stream",
     "text": [
      "3 of Clubs\n"
     ]
    }
   ],
   "source": [
    "card2 = Card(0, 3)\n",
    "print(card2)"
   ]
  },
  {
   "cell_type": "markdown",
   "metadata": {},
   "source": [
    "Lý do phải thêm 'narf' là phần tử đầu tiên của list rank, là bởi nó giữ chỗ cho index thứ 0. Mà index này không được sử dụng, valid rank là từ 1 đến 13"
   ]
  },
  {
   "cell_type": "markdown",
   "metadata": {},
   "source": [
    "Class attributes như  `suits` được share với mọi class object. Nên mặt lợi là ta có thể dùng bất kì Card object nào để truy cập class attributes. Ví dụ:"
   ]
  },
  {
   "cell_type": "code",
   "execution_count": 7,
   "metadata": {},
   "outputs": [
    {
     "name": "stdout",
     "output_type": "stream",
     "text": [
      "Diamonds\n"
     ]
    }
   ],
   "source": [
    "print(card2.suits[1])"
   ]
  },
  {
   "cell_type": "markdown",
   "metadata": {},
   "source": [
    "Bởi vì mọi thực thể của Card đều trỏ tới attribute của cùng class đó. Điều này mang đến bất lợi là khi ta thay đổi một class attribute thì nó áp dụng đến mọi phần tử trong class đó. Ví dụ ở lá J rô:"
   ]
  },
  {
   "cell_type": "code",
   "execution_count": 8,
   "metadata": {},
   "outputs": [
    {
     "name": "stdout",
     "output_type": "stream",
     "text": [
      "Jack of Swirly Whales\n"
     ]
    }
   ],
   "source": [
    "card1.suits[1] = \"Swirly Whales\"\n",
    "print(card1)"
   ]
  },
  {
   "cell_type": "markdown",
   "metadata": {},
   "source": [
    "Vấn đề lại giờ mọi \"Diamonds\" đều trở thành \"Swirly Whales\""
   ]
  },
  {
   "cell_type": "code",
   "execution_count": 9,
   "metadata": {},
   "outputs": [
    {
     "name": "stdout",
     "output_type": "stream",
     "text": [
      "Queen of Swirly Whales\n"
     ]
    }
   ],
   "source": [
    "card3 = Card(1, 12) # Đầm rô hay Queen of Diamonds\n",
    "print(card3)"
   ]
  },
  {
   "cell_type": "markdown",
   "metadata": {},
   "source": [
    "Nó thì thường không phải là ý hay để chỉnh sửa lại class attributes"
   ]
  },
  {
   "cell_type": "markdown",
   "metadata": {},
   "source": [
    "## 1.4 Comparing cards"
   ]
  },
  {
   "cell_type": "markdown",
   "metadata": {},
   "source": [
    "Về sơ khai thì có 6 operator (`>`, `<`, `==`, etc) dùng để so sánh giá trị nào lớn hơn, nhỏ hơn, bằng. Nếu chúng ta muốn object thuộc class riêng của chúng ta sử dụng các cú pháp này để so sánh, thì chúng ta cần định ra 6 special methods tương ứng trong class.<br>\n",
    "Chúng ta định ra một method `cmp` để so sánh. Theo truyền thống thì phương thức so sánh sẽ nhận 2 thông số là `self` và `other`. Nếu object đầu lớn hơn thì return 1 , ngược lại return -1.<br>\n",
    "Một vài loại đã sẵn theo thứ tự rồi, có nghĩa là chúng ta chỉ cần so sánh 2 phần tử và cho biết được cái nào lớn hơn. Ví dụ số integers và số float-points là 2 loại nhưng nó có thứ tự nên so sánh được. Một vài loại khác thì không theo thứ tự, nên không có cách nào biết được cái nào lớn hơn. Ví dụ: trái cây thì không xếp theo thứ tự, nên không thể so sánh quả táo hay quả cam lớn hơn.<br>\n",
    "Trở lại ví dụ trên, chơi bài thì có một phần theo thứ tự. Nên thỉnh thoảng ta so sánh giữa 2 lá bài được, thỉnh thoảng thì không. Ví dụ 3 Clubs (3 chuồn) thì lớn hơn 2 Clubs, và 3 Diamonds (3 rô) thì lớn hơn 3 Clubs. Nhưng cái nào là tốt hơn, 3 Clubs hay 2 Diamonds? Một cái thì rank cao hơn, một cái thì suit cao hơn.<br>\n",
    "Để có thể so sánh các lá bài, ta phải chọn ra được cái nào quan trọng hơn, suit hay rank. Việc chọn này tùy vào cách ta quy ước, chẳng hạn ta cho rằng suit thì quan trọng hơn:"
   ]
  },
  {
   "cell_type": "code",
   "execution_count": 1,
   "metadata": {},
   "outputs": [],
   "source": [
    "def cmp(self, other):\n",
    "    # Check the suits\n",
    "    if self.suit > other.suit: return 1\n",
    "    if self.suit < other.suit: return -1\n",
    "    # Suits are the same... check ranks\n",
    "    if self.rank > other.rank: return 1\n",
    "    if self.rank < other.rank: return -1\n",
    "    # Ranks are the same... it's a tie\n",
    "    return 0"
   ]
  },
  {
   "cell_type": "markdown",
   "metadata": {},
   "source": [
    "Theo thứ tự thì con Ace(xì) nhỏ hơn con Hai. Giờ thì ta định ra 6 special methods trong class, sử dụng operator overloading"
   ]
  },
  {
   "cell_type": "code",
   "execution_count": 2,
   "metadata": {},
   "outputs": [],
   "source": [
    "class Card:\n",
    "    suits = ['Clubs', 'Diamonds', 'Hearts', 'Spades']\n",
    "    ranks = ['narf', 'Ace', '2', '3', '4', '5', '6', '7', '8', '9', '10', 'Jack', 'Queen', 'King']\n",
    "    \n",
    "    def __init__(self, suit=0, rank=0):\n",
    "        self.suit = suit\n",
    "        self.rank = rank\n",
    "    \n",
    "    def __str__(self):\n",
    "        return (self.ranks[self.rank] + \" of \" + self.suits[self.suit])\n",
    "    \n",
    "    def cmp(self, other): # compare\n",
    "        # Check the suits\n",
    "        if self.suit > other.suit: return 1\n",
    "        if self.suit < other.suit: return -1\n",
    "        # Suits are the same... check ranks\n",
    "        if self.rank > other.rank: return 1\n",
    "        if self.rank < other.rank: return -1\n",
    "        # Ranks are the same... it's a tie\n",
    "        return 0\n",
    "    def __eq__(self, other): # equal operator\n",
    "        return self.cmp(other) == 0\n",
    "    def __le__(self, other): # Nhỏ hơn hoặc bằng\n",
    "        return self.cmp(other) <= 0\n",
    "    def __ge__(self, other): # Lớn hơn hoặc bằng\n",
    "        return self.cmp(other) >= 0\n",
    "    def __gt__(self, other): # lớn hơn\n",
    "        return self.cmp(other) > 0\n",
    "    def __lt__(self, other): # nhỏ hơn\n",
    "        return self.cmp(other) < 0\n",
    "    def __ne__(self, other): # không bằng\n",
    "        return self.cmp(other) != 0"
   ]
  },
  {
   "cell_type": "code",
   "execution_count": 3,
   "metadata": {},
   "outputs": [
    {
     "data": {
      "text/plain": [
       "True"
      ]
     },
     "execution_count": 3,
     "metadata": {},
     "output_type": "execute_result"
    }
   ],
   "source": [
    "card1 = Card(1, 11)\n",
    "card2 = Card(1, 3)\n",
    "card3 = Card(1, 11)\n",
    "card1 > card2"
   ]
  },
  {
   "cell_type": "code",
   "execution_count": 4,
   "metadata": {},
   "outputs": [
    {
     "data": {
      "text/plain": [
       "True"
      ]
     },
     "execution_count": 4,
     "metadata": {},
     "output_type": "execute_result"
    }
   ],
   "source": [
    "card1 == card3"
   ]
  },
  {
   "cell_type": "markdown",
   "metadata": {},
   "source": [
    "## 1.5 Decks"
   ]
  },
  {
   "cell_type": "markdown",
   "metadata": {},
   "source": [
    "Ta đã có những object đại diện cho Card. Giờ thì ta cần định ra một class đại diện cho Deck. Một Deck thì được tạo từ nhiều Cards, nên mỗi Deck sẽ chứa attribute là một list các cards"
   ]
  },
  {
   "cell_type": "code",
   "execution_count": 8,
   "metadata": {},
   "outputs": [],
   "source": [
    "class Deck:\n",
    "    def __init__(self):\n",
    "        self.cards = []\n",
    "        for suit in range(4):\n",
    "            for rank in range(1, 14):\n",
    "                self.cards.append(Card(suit, rank))"
   ]
  },
  {
   "cell_type": "markdown",
   "metadata": {},
   "source": [
    "Cách dễ nhất để tạo bộ bài (Deck) là từ nested loop. Loop bên ngoài chạy từ 0 đến 3 cho suit và loop bên trong chạy từ 1 đến 13 cho suit. Từ đó ta sẽ có được 52 lá bài."
   ]
  },
  {
   "cell_type": "markdown",
   "metadata": {},
   "source": [
    "## 1.6 Printing the deck"
   ]
  },
  {
   "cell_type": "markdown",
   "metadata": {},
   "source": [
    "Như thường lệ, khi chúng ta định ra một loại mới và muốn print thực thể đó ra. Thì để print Deck, ta phải đi qua list để print từng Card"
   ]
  },
  {
   "cell_type": "code",
   "execution_count": 9,
   "metadata": {},
   "outputs": [],
   "source": [
    "class Deck:\n",
    "    def __init__(self):\n",
    "        self.cards = []\n",
    "        for suit in range(4):\n",
    "            for rank in range(1, 14):\n",
    "                self.cards.append(Card(suit, rank))\n",
    "                \n",
    "    def __str__(self):\n",
    "        s = \"\"\n",
    "        for i in range(len(self.cards)):\n",
    "            s = s + \" \"*i + str(self.cards[i]) + \"\\n\"\n",
    "        return s"
   ]
  },
  {
   "cell_type": "code",
   "execution_count": 10,
   "metadata": {},
   "outputs": [
    {
     "name": "stdout",
     "output_type": "stream",
     "text": [
      "Ace of Clubs\n",
      " 2 of Clubs\n",
      "  3 of Clubs\n",
      "   4 of Clubs\n",
      "    5 of Clubs\n",
      "     6 of Clubs\n",
      "      7 of Clubs\n",
      "       8 of Clubs\n",
      "        9 of Clubs\n",
      "         10 of Clubs\n",
      "          Jack of Clubs\n",
      "           Queen of Clubs\n",
      "            King of Clubs\n",
      "             Ace of Diamonds\n",
      "              2 of Diamonds\n",
      "               3 of Diamonds\n",
      "                4 of Diamonds\n",
      "                 5 of Diamonds\n",
      "                  6 of Diamonds\n",
      "                   7 of Diamonds\n",
      "                    8 of Diamonds\n",
      "                     9 of Diamonds\n",
      "                      10 of Diamonds\n",
      "                       Jack of Diamonds\n",
      "                        Queen of Diamonds\n",
      "                         King of Diamonds\n",
      "                          Ace of Hearts\n",
      "                           2 of Hearts\n",
      "                            3 of Hearts\n",
      "                             4 of Hearts\n",
      "                              5 of Hearts\n",
      "                               6 of Hearts\n",
      "                                7 of Hearts\n",
      "                                 8 of Hearts\n",
      "                                  9 of Hearts\n",
      "                                   10 of Hearts\n",
      "                                    Jack of Hearts\n",
      "                                     Queen of Hearts\n",
      "                                      King of Hearts\n",
      "                                       Ace of Spades\n",
      "                                        2 of Spades\n",
      "                                         3 of Spades\n",
      "                                          4 of Spades\n",
      "                                           5 of Spades\n",
      "                                            6 of Spades\n",
      "                                             7 of Spades\n",
      "                                              8 of Spades\n",
      "                                               9 of Spades\n",
      "                                                10 of Spades\n",
      "                                                 Jack of Spades\n",
      "                                                  Queen of Spades\n",
      "                                                   King of Spades\n",
      "\n"
     ]
    }
   ],
   "source": [
    "red_deck = Deck()\n",
    "print(red_deck)"
   ]
  },
  {
   "cell_type": "markdown",
   "metadata": {},
   "source": [
    "Ví dụ này đã chứng minh một vài điểm:\n",
    "- Thay vì đi qua loop của self.cards và chỉ định từng biến để print ra. Thì ta lấy i làm index để truy cập vào list của các cards này. Phương án ban đầu ở dưới:\n",
    "```python\n",
    "class Deck:\n",
    "    .....\n",
    "    def print_card(self):\n",
    "        for card in self.cards:\n",
    "            print(card)\n",
    "```\n",
    "- Hai là ta sử dụng phép * để tạo space thụt đầu dòng. Yied nó trên mỗi lần loop\n",
    "- Ba là thay vì sử dụng print fucntion, ta dùng special method `__str__ `\n",
    "- Cuối cùng ta dùng biến s để store. Ban đầu biến s là 1 string rỗng. Cứ mỗi vòng loop một string mới được tạo ra và nối với string trước. Và khi loop kết thúc, ta có s chứa một string đại diện hoàn toàn cho các lá bài trong Deck. Và dù kết quả xuất hiện như ở trên, nhưng thực ra đó là 1 string dài có chứa các newline (\"\\n\")"
   ]
  },
  {
   "cell_type": "code",
   "execution_count": null,
   "metadata": {},
   "outputs": [],
   "source": []
  }
 ],
 "metadata": {
  "kernelspec": {
   "display_name": "Python 3",
   "language": "python",
   "name": "python3"
  },
  "language_info": {
   "codemirror_mode": {
    "name": "ipython",
    "version": 3
   },
   "file_extension": ".py",
   "mimetype": "text/x-python",
   "name": "python",
   "nbconvert_exporter": "python",
   "pygments_lexer": "ipython3",
   "version": "3.6.6"
  }
 },
 "nbformat": 4,
 "nbformat_minor": 2
}
