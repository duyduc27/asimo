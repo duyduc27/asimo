{
 "cells": [
  {
   "cell_type": "markdown",
   "metadata": {},
   "source": [
    "## 1.1 Inheritance"
   ]
  },
  {
   "cell_type": "markdown",
   "metadata": {},
   "source": [
    "Điểm nổi bật nhất của ngôn ngữ lập trình định hướng đối tượng là tính kế thừa. Tính kế thừa là khả năng định ra một class mới là một phiên bản chỉnh sửa của class đã tồn tại.<br>\n",
    "Lợi nhất của điểm này là bạn có thể thêm những phương thức mới vào một class mà không cần chỉnh sửa class đã tồn tại. Nó gọi là tính kế thừa vì class mới kế thừa tất cả các phương thức của class đang tồn tại. Nói ẩn dụ thì class đang tồn tại là class mẹ còn class mới gọi là class con hay subclass.<br>\n",
    "Tính kế thừa là một chức năng mạnh mẽ. Một vài chương trình sẽ phức tạp khi không có kế thừa để viết nó một cách đơn giản súc tích. Tính kế thừa cũng có thể dễ dàng dùng lại code. Vì bạn có thể chỉnh sửa hành vi của các class bố mẹ mà không cần phải chỉnh sửa chúng. Trong một vài trường hợp, cấu trúc kế thừa phản ánh cấu trúc tự nhiên của bài toán, khiến cho chương trình dễ dàng hơn để hiểu."
   ]
  },
  {
   "cell_type": "markdown",
   "metadata": {},
   "source": [
    "## 1.2 A hand of cards"
   ]
  },
  {
   "cell_type": "markdown",
   "metadata": {},
   "source": [
    "Hầu hết các trò đánh bài, chúng ta cần đại diện cho tay chơi bài. Hand ở đây cũng tương tự Deck. Cả 2 đều tạo ra được bộ bài, và các hoạt động như thêm bớt lá bài. Và có khả năng xáo bài cả Deck lẫn Hand<br>\n",
    "Mà Hand cũng khác so với Deck. Tùy thuộc vào trò đang chơi mà Hand có thể thực hiện những hoạt động mà Deck không có. Trường hợp này gợi ý cho việc sử dụng tính kế thừa. Nếu `Hand` là một subclass của `Deck`, nó sẽ có mọi methods của Deck, và những methods mới có thể được thêm vào."
   ]
  },
  {
   "cell_type": "code",
   "execution_count": 92,
   "metadata": {},
   "outputs": [],
   "source": [
    "class Card:\n",
    "    suits = [\"Clubs\", \"Diamonds\", \"Hearts\", \"Spades\"]\n",
    "    ranks = [\"narf\", \"Ace\", \"2\", \"3\", \"4\", \"5\", \"6\", \"7\",\n",
    "             \"8\", \"9\", \"10\", \"Jack\", \"Queen\", \"King\"]\n",
    "    def __init__(self, suit=0, rank=0):\n",
    "        self.suit = suit\n",
    "        self.rank = rank\n",
    "    \n",
    "    def __str__(self):\n",
    "        return (self.ranks[self.rank] + \" of \" + self.suits[self.suit])\n",
    "    \n",
    "    def cmp(self, other): # compare\n",
    "        # Check the suits\n",
    "        if self.suit > other.suit: return 1\n",
    "        if self.suit < other.suit: return -1\n",
    "        # Suits are the same... check ranks\n",
    "        if self.rank > other.rank: return 1\n",
    "        if self.rank < other.rank: return -1\n",
    "        # Ranks are the same... it's a tie\n",
    "        return 0\n",
    "    \n",
    "    def __eq__(self, other): # equal operator\n",
    "        return self.cmp(other) == 0\n",
    "    def __le__(self, other): # Nhỏ hơn hoặc bằng\n",
    "        return self.cmp(other) <= 0\n",
    "    def __ge__(self, other): # Lớn hơn hoặc bằng\n",
    "        return self.cmp(other) >= 0\n",
    "    def __gt__(self, other): # lớn hơn\n",
    "        return self.cmp(other) > 0\n",
    "    def __lt__(self, other): # nhỏ hơn\n",
    "        return self.cmp(other) < 0\n",
    "    def __ne__(self, other): # không bằng\n",
    "        return self.cmp(other) != 0"
   ]
  },
  {
   "cell_type": "code",
   "execution_count": 93,
   "metadata": {},
   "outputs": [],
   "source": [
    "class Deck:\n",
    "    def __init__(self):\n",
    "        self.cards = []\n",
    "        for suit in range(4):\n",
    "            for rank in range(1, 14):\n",
    "                self.cards.append(Card(suit, rank))\n",
    "    \n",
    "    def __str__(self):\n",
    "        s = \"\"\n",
    "        for i in range(len(self.cards)):\n",
    "            s = s + \" \"*i + str(self.cards[i]) + \"\\n\"\n",
    "        return s\n",
    "    \n",
    "    def shuffle(self):\n",
    "        import random\n",
    "        rng = random.Random()\n",
    "        rng.shuffle(self.cards)\n",
    "    \n",
    "    def is_empty(self):\n",
    "        return self.cards == []\n",
    "    \n",
    "    def pop(self):\n",
    "        return self.cards.pop()\n",
    "    \n",
    "    def remove(self, card):\n",
    "        if card in self.cards:\n",
    "            self.cards.remove(card)\n",
    "            return True\n",
    "        else:\n",
    "            return False"
   ]
  },
  {
   "cell_type": "code",
   "execution_count": 94,
   "metadata": {},
   "outputs": [],
   "source": [
    "class Hand(Deck):\n",
    "    def __init__(self, name=\"\"):\n",
    "        self.cards = []\n",
    "        self.name = name\n",
    "    \n",
    "    def add(self, card):\n",
    "        self.cards.append(card)"
   ]
  },
  {
   "cell_type": "markdown",
   "metadata": {},
   "source": [
    "Ở trong phần định ra class của `Hand` ta để tên class bố mẹ `Deck` trong dấu ngoặc. Lệnh này ra dấu class mới `Hand` kế thừa từ class đang tồn tại `Deck`.<br>\n",
    "Khởi tạo attributes của `Hand` thì có cards và name. Name là cho tên người chơi.<br>\n",
    "Trò đánh bài thì thường có các methods thêm bớt các lá bài. Vì `Deck` có remove method rồi nên ta thêm add ở `Hand`"
   ]
  },
  {
   "cell_type": "markdown",
   "metadata": {},
   "source": [
    "## 1.3 Dealing card"
   ]
  },
  {
   "cell_type": "markdown",
   "metadata": {},
   "source": [
    "Giờ ta đã có class `Hand`, chúng ta muốn chia bài từ `Deck` sang hands. Không bắt buộc method này phải đi từ `Hand` hay đi từ `Deck`, nhưng vì hoạt động này diễn ra trên 1 bộ Deck và nhiều Hands, nên tự nhiên nhất là cho nó vào `Deck`"
   ]
  },
  {
   "cell_type": "code",
   "execution_count": 95,
   "metadata": {},
   "outputs": [],
   "source": [
    "class Deck:\n",
    "    def __init__(self):\n",
    "        self.cards = []\n",
    "        for suit in range(4):\n",
    "            for rank in range(1, 14):\n",
    "                self.cards.append(Card(suit, rank))\n",
    "    \n",
    "    def __str__(self):\n",
    "        s = \"\"\n",
    "        for i in range(len(self.cards)):\n",
    "            s = s + \" \"*i + str(self.cards[i]) + \"\\n\"\n",
    "        return s\n",
    "    \n",
    "    def shuffle(self):\n",
    "        import random\n",
    "        rng = random.Random()\n",
    "        rng.seed(10)\n",
    "        rng.shuffle(self.cards)\n",
    "\n",
    "    def is_empty(self):\n",
    "        return self.cards == []\n",
    "    \n",
    "    def pop(self):\n",
    "        return self.cards.pop()\n",
    "    \n",
    "    def remove(self, card):\n",
    "        if card in self.cards:\n",
    "            self.cards.remove(card)\n",
    "            return True\n",
    "        else:\n",
    "            return False\n",
    "    \n",
    "    def deal(self, hands, num_cards=999):\n",
    "        num_hands = len(hands)\n",
    "        for i in range(num_cards):\n",
    "            if self.is_empty():\n",
    "                break         # # Break if out of cards\n",
    "            card = self.pop() # Take the top card\n",
    "            hand = hands[i % num_hands] # Whose turn is next?\n",
    "            hand.add(card)    # Add the card to the hand            "
   ]
  },
  {
   "cell_type": "markdown",
   "metadata": {},
   "source": [
    "Method `deal` khá là chung chung vì mỗi trò khác nhau thì có những yêu cầu khác nhau. `deal` này nhận 2 tham số, một list(hay tuple) các hands và tổng số bài để chia. Nếu không đủ bài trong một bộ thì method này sẽ chia hết và dừng.<br>\n",
    "Tham số thứ 2 là num_cards là độ lớn của số, nghĩa là tất cả các lá bài trong bộ bài này sẽ được chia.<br>\n",
    "Mỗi vòng loop thì một card sẽ bị remove đi qua list method `pop`<br>\n",
    "Phép chia lấy dư (%) cho phép chia bài trong một lượt (mỗi lần 1 lá đến 1 người chơi). Khi `i`  bằng với số lượng người chơi, thì biểu thức `i % num_hands` trở về lại bằng 0 tức là chia lại cho người có index là 0 (trong list các người chơi)"
   ]
  },
  {
   "cell_type": "markdown",
   "metadata": {},
   "source": [
    "## 1.4 Printing a Hand"
   ]
  },
  {
   "cell_type": "markdown",
   "metadata": {},
   "source": [
    "Vì `Hand` có tính kế thừa `__str__` từ `Deck` nên có thể print ra:"
   ]
  },
  {
   "cell_type": "code",
   "execution_count": 96,
   "metadata": {},
   "outputs": [
    {
     "name": "stdout",
     "output_type": "stream",
     "text": [
      "Jack of Hearts\n",
      " 3 of Clubs\n",
      "  2 of Hearts\n",
      "   5 of Hearts\n",
      "    King of Spades\n",
      "\n"
     ]
    }
   ],
   "source": [
    "deck = Deck()\n",
    "deck.shuffle()\n",
    "hand = Hand('frank')\n",
    "deck.deal([hand], 5) # Chia cho frank 5 quân bài\n",
    "print(hand)"
   ]
  },
  {
   "cell_type": "markdown",
   "metadata": {},
   "source": [
    "Mặc dù nó khá tiện để kế thừa method từ class đang tồn tại. Nhưng có khi ta lại muốn có thêm thông tin gì đó khi print ra. Để làm điều này ta cung cấp theo `__str__` method cho `Hand` mặc kệ `Deck` đã có sẵn một cái rồi."
   ]
  },
  {
   "cell_type": "code",
   "execution_count": 97,
   "metadata": {},
   "outputs": [],
   "source": [
    "class Hand(Deck):\n",
    "    def __init__(self, name=\"\"):\n",
    "        self.cards = []\n",
    "        self.name = name\n",
    "    \n",
    "    def __str__(self):\n",
    "        s = \"Hand \" + self.name\n",
    "        if self.is_empty():\n",
    "            s += \" is empty\\n\"\n",
    "        else:\n",
    "            s += \" contains\\n\"\n",
    "        return s + Deck.__str__(self)\n",
    "    \n",
    "    def add(self, card):\n",
    "        self.cards.append(card)"
   ]
  },
  {
   "cell_type": "code",
   "execution_count": 98,
   "metadata": {},
   "outputs": [
    {
     "name": "stdout",
     "output_type": "stream",
     "text": [
      "Hand Jack contains\n",
      "Jack of Hearts\n",
      " 3 of Clubs\n",
      "  2 of Hearts\n",
      "   5 of Hearts\n",
      "    King of Spades\n",
      "\n"
     ]
    }
   ],
   "source": [
    "deck = Deck()\n",
    "deck.shuffle()\n",
    "hand = Hand('Jack')\n",
    "deck.deal([hand], 5) # Chia cho Jack 5 quân bài\n",
    "print(hand)"
   ]
  },
  {
   "cell_type": "markdown",
   "metadata": {},
   "source": [
    "Ban đầu s là string ra dấu cho tên người chơi. Nếu không có người chơi nào thì nối với string empty và return s, ngược lại thì nối với string contain<br>\n",
    "Nó có vẻ kì lạ khi dùng `self` của `Deck` khi đang ở trong `Hand`. Nhưng vì `Hand` là class con của `Deck` nên objects của `Hand` có thể làm mọi thứ mà objects của `Deck` làm được<br>\n",
    "Nhìn chung nó là hợp lệ khi sử dụng một thực thể của subclass ở nơi của một parent class"
   ]
  },
  {
   "cell_type": "markdown",
   "metadata": {},
   "source": [
    "## 1.5 The CardGame class"
   ]
  },
  {
   "cell_type": "code",
   "execution_count": 99,
   "metadata": {},
   "outputs": [],
   "source": [
    "class CardGame:\n",
    "    def __init__(self):\n",
    "        self.deck = Deck()\n",
    "        self.deck.shuffle()"
   ]
  },
  {
   "cell_type": "markdown",
   "metadata": {},
   "source": [
    "Class CardGame sử dụng cho mọi hoạt động cơ bản của trò chơi như tạo ra bộ bài và xáo nó.<br>\n",
    "Đây cũng là trường hợp đầu tiên tới giờ ta mới thấy, là method khởi tạo (`__init__`) thể hiện computation đáng kể, hơn là khởi tạo attributes<br>\n",
    "Để thực hiện một trò cụ thể, chúng ta có thể kế thừa từ CardGame, và thêm các chức năng cho một game mới. Ví dụ ta sẽ giải lập trò Old Maid<br><br>\n",
    "Đối tượng của trò Old Maid là làm sao bỏ hết các lá bài trên tay. Những lá cùng rank và cùng color(màu) thì bỏ được. Ví dụ:  4 of Clubs (4 chuồn) thì đồng màu và đồng chất với 4 of Spades (4 bích) vì cả 2 cùng là rank 4 và màu đen.<br>\n",
    "Bắt đầu trò chơi thì lá Queen of Clubs (Đầm chuồn) bị bỏ ra để không có lá nào match với Queen of Spades (Đầm bích). 51 lá còn lại được chia lần lượt với các người chơi theo vòng tròn. Sau khi chia xong thì tất cả người chơi bỏ đi càng nhiều lá match với nhau nhất có thể.<br><br>\n",
    "Sau khi không còn lá nào match, thì theo lượt mỗi người chơi chọn 1 lá từ người gần nhất còn bài. Nếu lá đó match với lá trong bài đang giữ thì drop cặp đó. Nếu không thì coi như người chơi bị thêm 1 lá. Người cuối cùng còn đúng 1 lá Queen of Spades là người thua cuộc (vì lá Queen of Clubs bị bỏ ngay từ đầu).<br>\n",
    "Ở trong chương trình giả lập này, computer nhận hết vị trí người chơi. Không may là sắc thái trò chơi không còn, bởi chơi thực ở trò Old Maid người chơi sẽ nỗ lực chọn cho được lá có thể drop. Còn ở đây computer đơn giản là chọn ngẫu nhiên."
   ]
  },
  {
   "cell_type": "markdown",
   "metadata": {},
   "source": [
    "## 1.6 OldMaidHand class"
   ]
  },
  {
   "cell_type": "markdown",
   "metadata": {},
   "source": [
    "Người chơi trò Old Maid đòi hỏi những khả năng chung của `Hand`. Nên ta tạo class `OldMaidHand` kế thừa từ class `Hand` và cho thêm một method gọi là `remove_matches`"
   ]
  },
  {
   "cell_type": "code",
   "execution_count": 100,
   "metadata": {},
   "outputs": [],
   "source": [
    "class OldMaidHand(Hand):\n",
    "    def remove_matches(self):\n",
    "        count = 0\n",
    "        original_cards = self.cards[:]\n",
    "        for card in original_cards:\n",
    "            match = Card(3 - card.suit, card.rank)\n",
    "            if match in self.cards:\n",
    "                self.cards.remove(card)\n",
    "                self.cards.remove(match)\n",
    "                print(\"Hand {0}: {1} matches {2}\"\n",
    "                        .format(self.name, card, match))\n",
    "                count += 1\n",
    "        return count"
   ]
  },
  {
   "cell_type": "markdown",
   "metadata": {},
   "source": [
    "Đoạn `3 - card.suit` biến Club (suit 0) thành Spade (suit 3), cũng như Diamond (suit 1) về Heart(suit 2)"
   ]
  },
  {
   "cell_type": "code",
   "execution_count": 101,
   "metadata": {},
   "outputs": [
    {
     "name": "stdout",
     "output_type": "stream",
     "text": [
      "Hand Frank contains\n",
      "Jack of Hearts\n",
      " 3 of Clubs\n",
      "  2 of Hearts\n",
      "   5 of Hearts\n",
      "    King of Spades\n",
      "     Ace of Clubs\n",
      "      Ace of Diamonds\n",
      "       4 of Hearts\n",
      "        6 of Hearts\n",
      "         5 of Diamonds\n",
      "          3 of Spades\n",
      "           Jack of Clubs\n",
      "            Queen of Spades\n",
      "\n"
     ]
    }
   ],
   "source": [
    "game = CardGame()\n",
    "hand = OldMaidHand(\"Frank\")\n",
    "game.deck.deal([hand], 13)\n",
    "print(hand)"
   ]
  },
  {
   "cell_type": "code",
   "execution_count": 102,
   "metadata": {},
   "outputs": [
    {
     "name": "stdout",
     "output_type": "stream",
     "text": [
      "Hand Frank: 3 of Clubs matches 3 of Spades\n",
      "Hand Frank: 5 of Hearts matches 5 of Diamonds\n"
     ]
    },
    {
     "data": {
      "text/plain": [
       "2"
      ]
     },
     "execution_count": 102,
     "metadata": {},
     "output_type": "execute_result"
    }
   ],
   "source": [
    "hand.remove_matches()"
   ]
  },
  {
   "cell_type": "code",
   "execution_count": 107,
   "metadata": {},
   "outputs": [
    {
     "name": "stdout",
     "output_type": "stream",
     "text": [
      "Hand Frank contains\n",
      "Jack of Hearts\n",
      " 2 of Hearts\n",
      "  King of Spades\n",
      "   Ace of Clubs\n",
      "    Ace of Diamonds\n",
      "     4 of Hearts\n",
      "      6 of Hearts\n",
      "       Jack of Clubs\n",
      "        Queen of Spades\n",
      "\n"
     ]
    }
   ],
   "source": [
    "print(hand)"
   ]
  },
  {
   "cell_type": "markdown",
   "metadata": {},
   "source": [
    "Chú ý là không cần `__init__` method ở class `OldMaidHand` vì ta đã kế thừa method này từ class `Hand`"
   ]
  }
 ],
 "metadata": {
  "kernelspec": {
   "display_name": "Python 3",
   "language": "python",
   "name": "python3"
  },
  "language_info": {
   "codemirror_mode": {
    "name": "ipython",
    "version": 3
   },
   "file_extension": ".py",
   "mimetype": "text/x-python",
   "name": "python",
   "nbconvert_exporter": "python",
   "pygments_lexer": "ipython3",
   "version": "3.6.6"
  }
 },
 "nbformat": 4,
 "nbformat_minor": 2
}
