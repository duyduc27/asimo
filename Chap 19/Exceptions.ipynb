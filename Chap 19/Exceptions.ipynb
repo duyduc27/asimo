{
 "cells": [
  {
   "cell_type": "markdown",
   "metadata": {},
   "source": [
    "## 1.1 Catching exceptions"
   ]
  },
  {
   "cell_type": "code",
   "execution_count": 1,
   "metadata": {},
   "outputs": [
    {
     "ename": "ZeroDivisionError",
     "evalue": "division by zero",
     "output_type": "error",
     "traceback": [
      "\u001b[1;31m---------------------------------------------------------------------------\u001b[0m",
      "\u001b[1;31mZeroDivisionError\u001b[0m                         Traceback (most recent call last)",
      "\u001b[1;32m<ipython-input-1-86210e37274a>\u001b[0m in \u001b[0;36m<module>\u001b[1;34m\u001b[0m\n\u001b[1;32m----> 1\u001b[1;33m \u001b[0mprint\u001b[0m\u001b[1;33m(\u001b[0m\u001b[1;36m55\u001b[0m\u001b[1;33m/\u001b[0m\u001b[1;36m0\u001b[0m\u001b[1;33m)\u001b[0m\u001b[1;33m\u001b[0m\u001b[0m\n\u001b[0m",
      "\u001b[1;31mZeroDivisionError\u001b[0m: division by zero"
     ]
    }
   ],
   "source": [
    "print(55/0)"
   ]
  },
  {
   "cell_type": "code",
   "execution_count": 2,
   "metadata": {},
   "outputs": [
    {
     "ename": "IndexError",
     "evalue": "list index out of range",
     "output_type": "error",
     "traceback": [
      "\u001b[1;31m---------------------------------------------------------------------------\u001b[0m",
      "\u001b[1;31mIndexError\u001b[0m                                Traceback (most recent call last)",
      "\u001b[1;32m<ipython-input-2-6c47a9cca14c>\u001b[0m in \u001b[0;36m<module>\u001b[1;34m\u001b[0m\n\u001b[0;32m      1\u001b[0m \u001b[0ma\u001b[0m \u001b[1;33m=\u001b[0m \u001b[1;33m[\u001b[0m\u001b[1;33m]\u001b[0m\u001b[1;33m\u001b[0m\u001b[0m\n\u001b[1;32m----> 2\u001b[1;33m \u001b[0ma\u001b[0m\u001b[1;33m[\u001b[0m\u001b[1;36m5\u001b[0m\u001b[1;33m]\u001b[0m\u001b[1;33m\u001b[0m\u001b[0m\n\u001b[0m",
      "\u001b[1;31mIndexError\u001b[0m: list index out of range"
     ]
    }
   ],
   "source": [
    "a = []\n",
    "a[5]"
   ]
  },
  {
   "cell_type": "code",
   "execution_count": 3,
   "metadata": {},
   "outputs": [
    {
     "ename": "TypeError",
     "evalue": "'tuple' object does not support item assignment",
     "output_type": "error",
     "traceback": [
      "\u001b[1;31m---------------------------------------------------------------------------\u001b[0m",
      "\u001b[1;31mTypeError\u001b[0m                                 Traceback (most recent call last)",
      "\u001b[1;32m<ipython-input-3-f10a8f43a3b7>\u001b[0m in \u001b[0;36m<module>\u001b[1;34m\u001b[0m\n\u001b[0;32m      1\u001b[0m \u001b[0mtup\u001b[0m \u001b[1;33m=\u001b[0m \u001b[1;33m(\u001b[0m\u001b[1;34m\"a\"\u001b[0m\u001b[1;33m,\u001b[0m \u001b[1;34m\"b\"\u001b[0m\u001b[1;33m,\u001b[0m \u001b[1;34m\"d\"\u001b[0m\u001b[1;33m,\u001b[0m \u001b[1;34m\"d\"\u001b[0m\u001b[1;33m)\u001b[0m\u001b[1;33m\u001b[0m\u001b[0m\n\u001b[1;32m----> 2\u001b[1;33m \u001b[0mtup\u001b[0m\u001b[1;33m[\u001b[0m\u001b[1;36m3\u001b[0m\u001b[1;33m]\u001b[0m \u001b[1;33m=\u001b[0m \u001b[1;34m\"c\"\u001b[0m\u001b[1;33m\u001b[0m\u001b[0m\n\u001b[0m",
      "\u001b[1;31mTypeError\u001b[0m: 'tuple' object does not support item assignment"
     ]
    }
   ],
   "source": [
    "tup = (\"a\", \"b\", \"d\", \"d\")\n",
    "tup[3] = \"c\""
   ]
  },
  {
   "cell_type": "markdown",
   "metadata": {},
   "source": [
    "Ở bất kỳ trường hợp nào lỗi ở dòng cuối cùng cũng có 2 phần:\n",
    "- Loại lỗi trước dấu hai chấm\n",
    "- Và cụ thể lỗi sau dấu hai chấm"
   ]
  },
  {
   "cell_type": "markdown",
   "metadata": {},
   "source": [
    "Thỉnh thoảng ta muốn chạy một hoạt động, mà hoạt động đó có thể gây ra một exception. Nhưng chúng ta không muốn chương trình dừng lại. Chúng ta có thể **handle the exception** sử dụng lệnh `try` để gói vùng code lại"
   ]
  },
  {
   "cell_type": "code",
   "execution_count": 4,
   "metadata": {},
   "outputs": [
    {
     "name": "stdout",
     "output_type": "stream",
     "text": [
      "Enter a file name: abc\n",
      "There is no file named  abc\n"
     ]
    }
   ],
   "source": [
    "filename = input(\"Enter a file name: \")\n",
    "try:\n",
    "    f = open(filename, 'r')\n",
    "except:\n",
    "    print(\"There is no file named \", filename)"
   ]
  },
  {
   "cell_type": "markdown",
   "metadata": {},
   "source": [
    "Lệnh `try` có 3 mệnh đề (hay 3 phần) riêng biệt. `try`, `except`, `finally`. Hoặc `except` hoặc `finally` có thể được bỏ qua. Nên đoạn code ở trên có thể được cho là phiên bản phổ biến nhất của lệnh `try`. Công dụng của lệnh `try`:\n",
    "- Chạy dòng lệnh ở line 3 nếu không có exception xuất hiện\n",
    "- Nếu có thì chạy dòng lệnh ở line 5"
   ]
  },
  {
   "cell_type": "markdown",
   "metadata": {},
   "source": [
    "## 1.2 Raising our own exceptions"
   ]
  },
  {
   "cell_type": "markdown",
   "metadata": {},
   "source": [
    "Chương trình của chúng ta có thể báo exception riêng. Nếu chương trình phát hiện lỗi, nó sẽ `raise` error"
   ]
  },
  {
   "cell_type": "code",
   "execution_count": 5,
   "metadata": {},
   "outputs": [
    {
     "name": "stdout",
     "output_type": "stream",
     "text": [
      "Enter your age: -2\n"
     ]
    },
    {
     "ename": "ValueError",
     "evalue": "-2 is not a valid age",
     "output_type": "error",
     "traceback": [
      "\u001b[1;31m---------------------------------------------------------------------------\u001b[0m",
      "\u001b[1;31mValueError\u001b[0m                                Traceback (most recent call last)",
      "\u001b[1;32m<ipython-input-5-12beeee64c21>\u001b[0m in \u001b[0;36m<module>\u001b[1;34m\u001b[0m\n\u001b[0;32m      6\u001b[0m         \u001b[1;32mraise\u001b[0m \u001b[0mmy_error\u001b[0m\u001b[1;33m\u001b[0m\u001b[0m\n\u001b[0;32m      7\u001b[0m     \u001b[1;32mreturn\u001b[0m \u001b[0mage\u001b[0m\u001b[1;33m\u001b[0m\u001b[0m\n\u001b[1;32m----> 8\u001b[1;33m \u001b[0mget_age\u001b[0m\u001b[1;33m(\u001b[0m\u001b[1;33m)\u001b[0m\u001b[1;33m\u001b[0m\u001b[0m\n\u001b[0m",
      "\u001b[1;32m<ipython-input-5-12beeee64c21>\u001b[0m in \u001b[0;36mget_age\u001b[1;34m()\u001b[0m\n\u001b[0;32m      4\u001b[0m         \u001b[1;31m# Create a new instance of an exception\u001b[0m\u001b[1;33m\u001b[0m\u001b[1;33m\u001b[0m\u001b[0m\n\u001b[0;32m      5\u001b[0m         \u001b[0mmy_error\u001b[0m \u001b[1;33m=\u001b[0m \u001b[0mValueError\u001b[0m\u001b[1;33m(\u001b[0m\u001b[1;34m\"{} is not a valid age\"\u001b[0m\u001b[1;33m.\u001b[0m\u001b[0mformat\u001b[0m\u001b[1;33m(\u001b[0m\u001b[0mage\u001b[0m\u001b[1;33m)\u001b[0m\u001b[1;33m)\u001b[0m\u001b[1;33m\u001b[0m\u001b[0m\n\u001b[1;32m----> 6\u001b[1;33m         \u001b[1;32mraise\u001b[0m \u001b[0mmy_error\u001b[0m\u001b[1;33m\u001b[0m\u001b[0m\n\u001b[0m\u001b[0;32m      7\u001b[0m     \u001b[1;32mreturn\u001b[0m \u001b[0mage\u001b[0m\u001b[1;33m\u001b[0m\u001b[0m\n\u001b[0;32m      8\u001b[0m \u001b[0mget_age\u001b[0m\u001b[1;33m(\u001b[0m\u001b[1;33m)\u001b[0m\u001b[1;33m\u001b[0m\u001b[0m\n",
      "\u001b[1;31mValueError\u001b[0m: -2 is not a valid age"
     ]
    }
   ],
   "source": [
    "def get_age():\n",
    "    age = int(input(\"Enter your age: \"))\n",
    "    if age< 0:\n",
    "        # Create a new instance of an exception\n",
    "        my_error = ValueError(\"{} is not a valid age\".format(age))\n",
    "        raise my_error\n",
    "    return age\n",
    "get_age()        "
   ]
  },
  {
   "cell_type": "markdown",
   "metadata": {},
   "source": [
    "`ValueError` là một trong những loại exception dựng sẵn, khá khớp với loại lỗi mà ở đoạn code ở trên (Value Error với lỗi giá trị tuổi). Và thường dòng thứ 5 và 6 hay được kết hợp làm 1:\n",
    "```raise ValueError(\"{} is not a valid age\".format(age))```"
   ]
  },
  {
   "cell_type": "markdown",
   "metadata": {},
   "source": [
    "## 1.3 Revisiting an earlier example"
   ]
  },
  {
   "cell_type": "code",
   "execution_count": null,
   "metadata": {},
   "outputs": [],
   "source": [
    "def recursion_depth(number):\n",
    "    print(\"Recrusion number \", number)\n",
    "    try:\n",
    "        recursion_depth(number +1)\n",
    "    except:\n",
    "        print(\"I cannot go any deeper into this wormhole.\")\n",
    "recursion_depth(0)        "
   ]
  },
  {
   "cell_type": "markdown",
   "metadata": {},
   "source": [
    "Hàm đệ quy chạy đến 2954 là báo lỗi"
   ]
  },
  {
   "cell_type": "markdown",
   "metadata": {},
   "source": [
    "## 1.4 The finally clause of the try statement"
   ]
  },
  {
   "cell_type": "code",
   "execution_count": null,
   "metadata": {},
   "outputs": [],
   "source": [
    "import turtle\n",
    "import time\n",
    "\n",
    "def show_polly():\n",
    "    try:\n",
    "        win = turtle.Screen() # Grab/create a resource, e.g. a window\n",
    "        tess = turtle.Turtle()\n",
    "        \n",
    "        # This dialog could be cancelled,\n",
    "        #   or the conversion to int might fail, or n might be zero.\n",
    "        n = int(input(\"How many sides do you want in your polygon?\"))\n",
    "        angle = 360 /n\n",
    "        for i in range(n): # draw the polygon\n",
    "            tess.forward(10)\n",
    "            tess.left(angle)\n",
    "        time.sleep(3) # Make program wait a few seconds\n",
    "    finally:\n",
    "        win.bye() # Close the turtle's window\n",
    "\n",
    "show_polly()\n",
    "show_polly()\n",
    "show_polly()"
   ]
  },
  {
   "cell_type": "markdown",
   "metadata": {},
   "source": [
    "Để dọn tài nguyên mà ta gọi ra như tạo cửa sổ vẽ turtle,... thì mệnh đề `finally` của lệnh `try` là cách để làm điều đó.<br>\n",
    "Ví dụ ở dòng 20-22 tạo 3 cửa sổ vẽ turtle. Nếu chúng ta nhập vào là string thay vì là `int` thì sẽ báo lỗi. Và tạo ra exception. Mặc dù có exception nhưng ta vẫn muốn đóng cửa sổ turtle này. Dòng 17,18 làm công việc này.<br>\n",
    "Dù lệnh `try` có hoàn thành hay không thì mệnh đề `finally` vẫn được chạy.<br>\n",
    "Chú ý là exception ở case này vẫn chưa được giải quyết, **chỉ có** mệnh đề `except` mới giải quyết được exception. Vì thế chương trình vẫn bị crash. Nhưng ít nhất cửa sổ turtle được đóng trước khi nó bị crash."
   ]
  },
  {
   "cell_type": "markdown",
   "metadata": {},
   "source": [
    "## 1.5 Glossary"
   ]
  },
  {
   "cell_type": "markdown",
   "metadata": {},
   "source": [
    "- **exception**: là lỗi xuất hiện trong quá trình chạy (runetime)\n",
    "- **handle an exception**: ngăn chặn exception khiến chương trình bị crash. Theo cấu trúc `try`...`except`\n",
    "- **raise**: tạo ra exception theo chủ ý của mình thông qua lệnh `raise`"
   ]
  },
  {
   "cell_type": "markdown",
   "metadata": {},
   "source": [
    "**19.6 Exercise**"
   ]
  },
  {
   "cell_type": "code",
   "execution_count": 16,
   "metadata": {},
   "outputs": [
    {
     "name": "stdout",
     "output_type": "stream",
     "text": [
      "Enter a positive integer: -2\n",
      "-2 was a negative integer\n",
      "It wasn't a positive integer\n"
     ]
    }
   ],
   "source": [
    "def readposint():\n",
    "    try:\n",
    "        n = int(input(\"Enter a positive integer: \"))\n",
    "        if n >= 0:\n",
    "            print(\"Your number is\", n)\n",
    "        else:\n",
    "            raise print(\"{} was a negative integer\".format(n))\n",
    "\n",
    "    except:\n",
    "        print(\"It wasn't a positive integer\")\n",
    "        \n",
    "readposint()        "
   ]
  }
 ],
 "metadata": {
  "kernelspec": {
   "display_name": "Python 3",
   "language": "python",
   "name": "python3"
  },
  "language_info": {
   "codemirror_mode": {
    "name": "ipython",
    "version": 3
   },
   "file_extension": ".py",
   "mimetype": "text/x-python",
   "name": "python",
   "nbconvert_exporter": "python",
   "pygments_lexer": "ipython3",
   "version": "3.6.6"
  }
 },
 "nbformat": 4,
 "nbformat_minor": 2
}
