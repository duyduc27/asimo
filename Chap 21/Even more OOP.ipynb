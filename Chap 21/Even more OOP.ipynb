{
 "cells": [
  {
   "cell_type": "markdown",
   "metadata": {},
   "source": [
    "## 1.1 MyTime"
   ]
  },
  {
   "cell_type": "markdown",
   "metadata": {},
   "source": [
    "Định ra class MyTime để lưu lại thời gian trong ngày. Class định ra sẽ trông như thế này:"
   ]
  },
  {
   "cell_type": "code",
   "execution_count": 35,
   "metadata": {},
   "outputs": [],
   "source": [
    "class MyTime:\n",
    "    def __init__(self, hrs=0, mins= 0, secs=0):\n",
    "        \"\"\" Create a MyTime object initialized to hrs, mins, secs \"\"\"\n",
    "        self.hours = hrs\n",
    "        self.minutes = mins\n",
    "        self.seconds = secs\n",
    "    \n",
    "    def __str__(self):\n",
    "        return \"({0}:{1}:{2})\".format(self.hours, self.minutes, self.seconds)"
   ]
  },
  {
   "cell_type": "code",
   "execution_count": 36,
   "metadata": {},
   "outputs": [
    {
     "data": {
      "text/plain": [
       "<__main__.MyTime at 0x14eeecccb70>"
      ]
     },
     "execution_count": 36,
     "metadata": {},
     "output_type": "execute_result"
    }
   ],
   "source": [
    "tim1 = MyTime(11, 59, 30)\n",
    "tim1"
   ]
  },
  {
   "cell_type": "code",
   "execution_count": 37,
   "metadata": {},
   "outputs": [
    {
     "name": "stdout",
     "output_type": "stream",
     "text": [
      "(11:59:30)\n"
     ]
    }
   ],
   "source": [
    "print(tim1)"
   ]
  },
  {
   "cell_type": "markdown",
   "metadata": {},
   "source": [
    "## 1.2 Pure functions"
   ]
  },
  {
   "cell_type": "markdown",
   "metadata": {},
   "source": [
    "Viết một hàm gọi là `add_time` để tổng thời gian giữa 2 objects. Cái này để chứng minh cho 2 loại function là pure function và modifier"
   ]
  },
  {
   "cell_type": "code",
   "execution_count": 38,
   "metadata": {},
   "outputs": [],
   "source": [
    "def add_time(t1, t2):\n",
    "    h = t1.hours + t2.hours\n",
    "    m = t1.minutes + t2.minutes\n",
    "    s = t1.seconds + t2.seconds\n",
    "    sum_t = MyTime(h, m, s)\n",
    "    return sum_t"
   ]
  },
  {
   "cell_type": "markdown",
   "metadata": {},
   "source": [
    "function này được tạo bởi object MyTime và gọi là **pure function** vì nó không chỉnh sửa gì bất kì đối tượng nào được pass làm thông số."
   ]
  },
  {
   "cell_type": "code",
   "execution_count": 39,
   "metadata": {},
   "outputs": [],
   "source": [
    "current_time = MyTime(9, 14, 30)\n",
    "bread_time = MyTime(3, 35, 0)\n",
    "done_time = add_time(current_time, bread_time)"
   ]
  },
  {
   "cell_type": "code",
   "execution_count": 40,
   "metadata": {},
   "outputs": [
    {
     "name": "stdout",
     "output_type": "stream",
     "text": [
      "12:49:30\n"
     ]
    }
   ],
   "source": [
    "print(\"{}:{}:{}\".format(done_time.hours, done_time.minutes, done_time.seconds))"
   ]
  },
  {
   "cell_type": "markdown",
   "metadata": {},
   "source": [
    "Kết quả đúng nhưng ở các case khác thì kết quả sẽ không đúng. Như trong trường hợp các case có các attributes như hours, minutes, seconds mà tổng giữa t1 và t2 lớn hơn 60. Ở dưới là một phiên bản tốt hơn."
   ]
  },
  {
   "cell_type": "code",
   "execution_count": 41,
   "metadata": {},
   "outputs": [],
   "source": [
    "def add_time(t1, t2):\n",
    "    h = t1.hours + t2.hours\n",
    "    m = t1.minutes + t2.minutes\n",
    "    s = t1.seconds + t2.seconds\n",
    "    \n",
    "    if s>= 60:\n",
    "        s -= 60\n",
    "        m += 1\n",
    "    \n",
    "    if m >= 60:\n",
    "        m -= 60\n",
    "        h +=1\n",
    "        \n",
    "    sum_t = MyTime(h, m, s) \n",
    "    return sum_t"
   ]
  },
  {
   "cell_type": "markdown",
   "metadata": {},
   "source": [
    "Hàm này đã trở nên lớn nhưng vẫn không hiệu quả với mọi trường hợp."
   ]
  },
  {
   "cell_type": "markdown",
   "metadata": {},
   "source": [
    "## 1.3 Modifiers"
   ]
  },
  {
   "cell_type": "markdown",
   "metadata": {},
   "source": [
    "Sẽ có những lúc hữu ích cho một hàm có thể chỉnh sửa một hoặc nhiều đối tượng khi đưa nó vào làm thông số. Những hàm hoạt động theo kiểu đó gọi là **modifiers**"
   ]
  },
  {
   "cell_type": "code",
   "execution_count": 42,
   "metadata": {},
   "outputs": [],
   "source": [
    "def increment(t, secs):\n",
    "    t.seconds += secs\n",
    "    \n",
    "    if t.seconds >= 60:\n",
    "        t.seconds -= 60\n",
    "        t.minutes +=1\n",
    "    \n",
    "    if t.minutes >= 60:\n",
    "        t.minutes -=60\n",
    "        t.hours += 1    "
   ]
  },
  {
   "cell_type": "markdown",
   "metadata": {},
   "source": [
    "Dòng đầu là một phép toán đơn giản, phần còn lại là cho các trường hợp đặc biệt mà ta gặp ở trên. Vấn đề là nếu các attribute này lớn hơn rất nhiều so với 60 thì nó lại chỉ tính có 1 lần. Vậy nên phù hợp là thay `if` bằng `while`"
   ]
  },
  {
   "cell_type": "code",
   "execution_count": 43,
   "metadata": {},
   "outputs": [],
   "source": [
    "def increment(t, secs):\n",
    "    t.seconds += secs\n",
    "    \n",
    "    while t.seconds >= 60:\n",
    "        t.seconds -= 60\n",
    "        t.minutes +=1\n",
    "    \n",
    "    while t.minutes >= 60:\n",
    "        t.minutes -=60\n",
    "        t.hours += 1  "
   ]
  },
  {
   "cell_type": "markdown",
   "metadata": {},
   "source": [
    "Hàm này đến giờ khá đúng nếu seconds không âm. Nhưng nếu thời gian vượt quá 23 giờ thì nó vẫn chưa phải giải pháp tốt."
   ]
  },
  {
   "cell_type": "markdown",
   "metadata": {},
   "source": [
    "## 1.4 Converting increment to a method"
   ]
  },
  {
   "cell_type": "markdown",
   "metadata": {},
   "source": [
    "Một người lập trình định hướng đối tượng sẽ muốn sử dụng các hàm hoạt động với các object thuộc MyTime vào class MyTime"
   ]
  },
  {
   "cell_type": "code",
   "execution_count": 44,
   "metadata": {},
   "outputs": [],
   "source": [
    "class MyTime:\n",
    "    def __init__(self, hrs=0, mins=0, secs=0):\n",
    "        self.hours = hrs\n",
    "        self.minutes = mins\n",
    "        self.seconds = secs\n",
    "\n",
    "    def __str__(self):\n",
    "        return \"{0}:{1}:{2}\".format(self.hours, self.minutes, self.seconds)        \n",
    "    \n",
    "    def increment(self, seconds):\n",
    "        self.seconds += seconds\n",
    "        \n",
    "        while self.seconds >= 60:\n",
    "            self.seconds -=60\n",
    "            self.minutes +=1\n",
    "            \n",
    "        while self.minutes >= 60:\n",
    "            self.minutes -= 60\n",
    "            self.hours += 1        "
   ]
  },
  {
   "cell_type": "markdown",
   "metadata": {},
   "source": [
    "Việc chuyển đổi này khá máy móc. Ta đưa hàm này vào trong lúc định ra class MyTime. Và thay tham số đầu tiên là self. Thử với current_time như ở trên, thêm 500 giây."
   ]
  },
  {
   "cell_type": "code",
   "execution_count": 45,
   "metadata": {},
   "outputs": [
    {
     "name": "stdout",
     "output_type": "stream",
     "text": [
      "9:22:50\n"
     ]
    }
   ],
   "source": [
    "current_time = MyTime(9, 14, 30)\n",
    "current_time.increment(500)\n",
    "print(current_time)"
   ]
  },
  {
   "cell_type": "markdown",
   "metadata": {},
   "source": [
    "## 1.5 An “Aha!” insight"
   ]
  },
  {
   "cell_type": "markdown",
   "metadata": {},
   "source": [
    "Thông thường có một cái nhìn insight hơn trong bài toán thì có thể giúp việc lập trình dễ hơn. Trong trường hợp này, insight của object MyTime là 3 chữ số base trên 60. Được chia làm 3 cột hours, minutes và seconds. Các quan sát này gợi ý cho một cách tiếp cận khác của cả vấn đề. Đó là convert MyTime object thành 1 cột seconds."
   ]
  },
  {
   "cell_type": "code",
   "execution_count": 46,
   "metadata": {},
   "outputs": [],
   "source": [
    "class MyTime:\n",
    "    def __init__(self, hrs=0, mins=0, secs=0):     \n",
    "        \n",
    "        \"\"\" Create a new MyTime object initialized to hrs, mins, secs.\n",
    "           The values of mins and secs may be outside the range 0-59,\n",
    "           but the resulting MyTime object will be normalized.\n",
    "        \"\"\"\n",
    "        # Calculate total seconds to represent\n",
    "        \n",
    "        totalsecs = hrs*3600 + mins*60 + secs\n",
    "        self.hours = totalsecs // 3600\n",
    "        leftoversecs = totalsecs % 3600\n",
    "        self.minutes = leftoversecs //60\n",
    "        self.seconds = leftoversecs % 60\n",
    "        \n",
    "    def __str__(self):\n",
    "        return \"{0}:{1}:{2}\".format(self.hours, self.minutes, self.seconds)         \n",
    "    \n",
    "    def to_seconds(self):\n",
    "        \"\"\" Return the number of seconds represented\n",
    "            by this instance\n",
    "        \"\"\"\n",
    "        return self.hours*3600 + self.minutes*60 + self.seconds"
   ]
  },
  {
   "cell_type": "markdown",
   "metadata": {},
   "source": [
    "Khối code từ line 10 đến 14 để chuẩn hóa lại các giá trị thời gian."
   ]
  },
  {
   "cell_type": "markdown",
   "metadata": {},
   "source": [
    "Ở trong lập trình định hướng đối tượng, chúng ta thật sự muốn gói dữ liệu và hoạt động lại cùng nhau. Nên chúng ta sẽ muốn làm như vậy trong class MyTime. Một giải pháp tốt là viết lại khởi tạo class, điều đó có thể giúp đương đầu với những giá trị _phút_ và _giây_ nằm ngoài chuẩn hóa. Ví dụ 3 hours 80 minutes 121 seconds thì nên được chuẩn hóa về 4 hours 22 minutes 1 second"
   ]
  },
  {
   "cell_type": "code",
   "execution_count": 47,
   "metadata": {},
   "outputs": [
    {
     "name": "stdout",
     "output_type": "stream",
     "text": [
      "4:22:1\n"
     ]
    }
   ],
   "source": [
    "nomalized_time = MyTime(3, 80, 121)\n",
    "print(nomalized_time)"
   ]
  },
  {
   "cell_type": "code",
   "execution_count": 48,
   "metadata": {},
   "outputs": [],
   "source": [
    "def add_time(t1, t2):\n",
    "    secs = t1.to_seconds() + t2.to_seconds()\n",
    "    return MyTime(0, 0, secs)"
   ]
  },
  {
   "cell_type": "code",
   "execution_count": 49,
   "metadata": {},
   "outputs": [
    {
     "name": "stdout",
     "output_type": "stream",
     "text": [
      "12:49:30\n"
     ]
    }
   ],
   "source": [
    "current_time = MyTime(9, 14, 30)\n",
    "bread_time = MyTime(3, 35, 0)\n",
    "done_time = add_time(current_time, bread_time)\n",
    "print(done_time)"
   ]
  },
  {
   "cell_type": "markdown",
   "metadata": {},
   "source": [
    "## 1.6 Another example"
   ]
  },
  {
   "cell_type": "markdown",
   "metadata": {},
   "source": [
    "Nếu chúng ta muốn biết thời gian t1 liệu có sau t2 hay không. Ta có thể dùng các lệnh if lần lượt cho hours, minutes, seconds. Hoặc có thể đổi hết ra seconds rồi so sánh."
   ]
  },
  {
   "cell_type": "code",
   "execution_count": 50,
   "metadata": {},
   "outputs": [],
   "source": [
    "class MyTime:\n",
    "    def __init__(self, hrs=0, mins=0, secs=0):\n",
    "        \"\"\" Create a new MyTime object initialized to hrs, mins, secs.\n",
    "           The values of mins and secs may be outside the range 0-59,\n",
    "           but the resulting MyTime object will be normalized.\n",
    "        \"\"\"\n",
    "        # Calculate total seconds to represent\n",
    "        totalsecs = hrs*3600 + mins*60 + secs\n",
    "        self.hours = totalsecs // 3600\n",
    "        leftoversecs = totalsecs % 3600\n",
    "        self.minutes = leftoversecs // 60\n",
    "        self.seconds = leftoversecs % 60\n",
    "    \n",
    "    def to_seconds(self):\n",
    "        \"\"\" Return the number of seconds represented\n",
    "            by this instance\n",
    "        \"\"\"\n",
    "        return self.hours*3600 + self.minutes*60 + self.seconds\n",
    "    \n",
    "    def after(self, time2):\n",
    "        \"\"\" Return True if I am strictly greater than time2 \"\"\"\n",
    "        return self.to_seconds() > time2.to_seconds()"
   ]
  },
  {
   "cell_type": "code",
   "execution_count": 51,
   "metadata": {},
   "outputs": [],
   "source": [
    "def add_time(t1, t2):\n",
    "    secs = t1.to_seconds() + t2.to_seconds()\n",
    "    return MyTime(0,0,secs)"
   ]
  },
  {
   "cell_type": "code",
   "execution_count": 52,
   "metadata": {},
   "outputs": [],
   "source": [
    "current_time = MyTime(9, 14, 30)\n",
    "bread_time = MyTime(3, 35, 0)\n",
    "done_time = add_time(current_time, bread_time)"
   ]
  },
  {
   "cell_type": "code",
   "execution_count": 53,
   "metadata": {},
   "outputs": [],
   "source": [
    "if current_time.after(done_time):\n",
    "    print(\"The bread will be done before it starts!\")"
   ]
  },
  {
   "cell_type": "code",
   "execution_count": 54,
   "metadata": {},
   "outputs": [
    {
     "data": {
      "text/plain": [
       "False"
      ]
     },
     "execution_count": 54,
     "metadata": {},
     "output_type": "execute_result"
    }
   ],
   "source": [
    "current_time.after(done_time) == True"
   ]
  },
  {
   "cell_type": "markdown",
   "metadata": {},
   "source": [
    "Có thể diễn dịch câu lệnh trên là: liệu thời gian hiện tại có phải sau thời gian hoàn thành không. Trả về False"
   ]
  },
  {
   "cell_type": "markdown",
   "metadata": {},
   "source": [
    "## 1.7 Operator overloading"
   ]
  },
  {
   "cell_type": "markdown",
   "metadata": {},
   "source": [
    "Trong Python, vẫn có thể cùng một operator nhưng lại mang ý nghĩa khác nhau. Ví dụ `+` trong Python có nghĩa 2 thứ khác nhau với strings hay integers. Chức năng này gọi là **operator overloading**"
   ]
  },
  {
   "cell_type": "code",
   "execution_count": 5,
   "metadata": {},
   "outputs": [],
   "source": [
    "class Point:\n",
    "    def __init__(self, x, y):\n",
    "        self.x = x\n",
    "        self.y = y\n",
    "    \n",
    "    def __str__(self):\n",
    "        return \"({0}, {1})\".format(self.x, self.y)\n",
    "        \n",
    "    def __add__(self, other):\n",
    "        return Point(self.x + other.x, self.y + other.y)\n",
    "    \n",
    "    def __mul__(self, other):\n",
    "        return self.x * other.x + self.y + other.y\n",
    "    \n",
    "    def __rmul__(self, other):\n",
    "        return Point(other*self.x, other*self.y)"
   ]
  },
  {
   "cell_type": "code",
   "execution_count": 6,
   "metadata": {},
   "outputs": [
    {
     "name": "stdout",
     "output_type": "stream",
     "text": [
      "26\n"
     ]
    }
   ],
   "source": [
    "p1 = Point(3,4)\n",
    "p2 = Point(5,7)\n",
    "print(p1*p2)"
   ]
  },
  {
   "cell_type": "code",
   "execution_count": 7,
   "metadata": {},
   "outputs": [
    {
     "name": "stdout",
     "output_type": "stream",
     "text": [
      "(10, 14)\n"
     ]
    }
   ],
   "source": [
    "print(2*p2)"
   ]
  },
  {
   "cell_type": "markdown",
   "metadata": {},
   "source": [
    "- Dòng 12, 13 là **dot product** bằng việc định ra method `__mul__`\n",
    "- Còn dùng 15, 16 là **scalar multiplication** bằng việc định ra method `__rmul__`\n",
    "\n",
    "Nhưng nếu cũng là scalar multiplication nhưng không tuân theo thứ tự trên. Mà là `p2*2` thì Python lại gọi lên method `__mul__` gây lỗi"
   ]
  },
  {
   "cell_type": "code",
   "execution_count": 58,
   "metadata": {},
   "outputs": [
    {
     "ename": "AttributeError",
     "evalue": "'int' object has no attribute 'x'",
     "output_type": "error",
     "traceback": [
      "\u001b[1;31m---------------------------------------------------------------------------\u001b[0m",
      "\u001b[1;31mAttributeError\u001b[0m                            Traceback (most recent call last)",
      "\u001b[1;32m<ipython-input-58-fafc1a9a6ba5>\u001b[0m in \u001b[0;36m<module>\u001b[1;34m\u001b[0m\n\u001b[1;32m----> 1\u001b[1;33m \u001b[0mprint\u001b[0m\u001b[1;33m(\u001b[0m\u001b[0mp2\u001b[0m\u001b[1;33m*\u001b[0m\u001b[1;36m2\u001b[0m\u001b[1;33m)\u001b[0m\u001b[1;33m\u001b[0m\u001b[0m\n\u001b[0m",
      "\u001b[1;32m<ipython-input-55-eb0b5b8b9e89>\u001b[0m in \u001b[0;36m__mul__\u001b[1;34m(self, other)\u001b[0m\n\u001b[0;32m     11\u001b[0m \u001b[1;33m\u001b[0m\u001b[0m\n\u001b[0;32m     12\u001b[0m     \u001b[1;32mdef\u001b[0m \u001b[0m__mul__\u001b[0m\u001b[1;33m(\u001b[0m\u001b[0mself\u001b[0m\u001b[1;33m,\u001b[0m \u001b[0mother\u001b[0m\u001b[1;33m)\u001b[0m\u001b[1;33m:\u001b[0m\u001b[1;33m\u001b[0m\u001b[0m\n\u001b[1;32m---> 13\u001b[1;33m         \u001b[1;32mreturn\u001b[0m \u001b[0mself\u001b[0m\u001b[1;33m.\u001b[0m\u001b[0mx\u001b[0m \u001b[1;33m*\u001b[0m \u001b[0mother\u001b[0m\u001b[1;33m.\u001b[0m\u001b[0mx\u001b[0m \u001b[1;33m+\u001b[0m \u001b[0mself\u001b[0m\u001b[1;33m.\u001b[0m\u001b[0my\u001b[0m \u001b[1;33m+\u001b[0m \u001b[0mother\u001b[0m\u001b[1;33m.\u001b[0m\u001b[0my\u001b[0m\u001b[1;33m\u001b[0m\u001b[0m\n\u001b[0m\u001b[0;32m     14\u001b[0m \u001b[1;33m\u001b[0m\u001b[0m\n\u001b[0;32m     15\u001b[0m     \u001b[1;32mdef\u001b[0m \u001b[0m__rmul__\u001b[0m\u001b[1;33m(\u001b[0m\u001b[0mself\u001b[0m\u001b[1;33m,\u001b[0m \u001b[0mother\u001b[0m\u001b[1;33m)\u001b[0m\u001b[1;33m:\u001b[0m\u001b[1;33m\u001b[0m\u001b[0m\n",
      "\u001b[1;31mAttributeError\u001b[0m: 'int' object has no attribute 'x'"
     ]
    }
   ],
   "source": [
    "print(p2*2)"
   ]
  },
  {
   "cell_type": "markdown",
   "metadata": {},
   "source": [
    "## 1.8 Polymorphism"
   ]
  },
  {
   "cell_type": "markdown",
   "metadata": {},
   "source": [
    "Hầu hết các methods chúng ta vừa viết chỉ hoạt động trên một loại cụ thể. Nhưng nếu chúng ta muốn áp dụng nó vào nhiều loại cùng một lúc thì viết một hàm ra bên ngoài."
   ]
  },
  {
   "cell_type": "code",
   "execution_count": 8,
   "metadata": {},
   "outputs": [
    {
     "data": {
      "text/plain": [
       "7"
      ]
     },
     "execution_count": 8,
     "metadata": {},
     "output_type": "execute_result"
    }
   ],
   "source": [
    "def muladd(x,y,z):\n",
    "    return x*y+z\n",
    "muladd(3,2,1)"
   ]
  },
  {
   "cell_type": "code",
   "execution_count": 9,
   "metadata": {},
   "outputs": [
    {
     "name": "stdout",
     "output_type": "stream",
     "text": [
      "(11, 15)\n"
     ]
    }
   ],
   "source": [
    "print(muladd (2,p1,p2))"
   ]
  },
  {
   "cell_type": "code",
   "execution_count": 10,
   "metadata": {},
   "outputs": [
    {
     "name": "stdout",
     "output_type": "stream",
     "text": [
      "27\n"
     ]
    }
   ],
   "source": [
    "print(muladd (p1, p2, 1))"
   ]
  },
  {
   "cell_type": "markdown",
   "metadata": {},
   "source": [
    "Một hàm nhận nhiều thông số có các loại khác nhau như thế này gọi là **polymorphic**"
   ]
  },
  {
   "cell_type": "markdown",
   "metadata": {},
   "source": [
    "Nếu mọi hoạt động của hàm có thể áp dụng vào type thì hàm này có thể ứng dụng vào type đó. Ví dụ hàm `front_and_back` ở dưới có các operator sau: `copy`, `reverse` và `print`. Mà operator `copy` thì dùng được cho mọi đối tượng, `print` thì dùng được cho class Point vì chúng ta đã khai báo method `__str__`. Vậy thì class này còn thiếu operator `reverse`. Nên ta sẽ thêm `reverse` method trong Point class."
   ]
  },
  {
   "cell_type": "code",
   "execution_count": 3,
   "metadata": {},
   "outputs": [],
   "source": [
    "def front_and_back(front):\n",
    "    import copy\n",
    "    back = copy.copy(front)\n",
    "    back.reverse()\n",
    "    print(str(front) + str(back))"
   ]
  },
  {
   "cell_type": "code",
   "execution_count": 1,
   "metadata": {},
   "outputs": [],
   "source": [
    "class Point:\n",
    "    def __init__(self, x, y):\n",
    "        self.x = x\n",
    "        self.y = y\n",
    "    \n",
    "    def __str__(self):\n",
    "        return \"({0}, {1})\".format(self.x, self.y)\n",
    "    \n",
    "    def reverse(self):\n",
    "        (self.x , self.y) = (self.y, self.x)"
   ]
  },
  {
   "cell_type": "code",
   "execution_count": 4,
   "metadata": {},
   "outputs": [
    {
     "name": "stdout",
     "output_type": "stream",
     "text": [
      "(3, 4)(4, 3)\n"
     ]
    }
   ],
   "source": [
    "p = Point(3, 4)\n",
    "front_and_back(p)"
   ]
  },
  {
   "cell_type": "markdown",
   "metadata": {},
   "source": [
    "kết quả hàm `front_and_back` dùng được cho object của class Point vì trong class này đã có đủ các operator trong hàm `front_and_back`"
   ]
  },
  {
   "cell_type": "markdown",
   "metadata": {},
   "source": [
    "## 1.9 Glossary"
   ]
  },
  {
   "cell_type": "markdown",
   "metadata": {},
   "source": [
    "- **dot product**: là một phép tính trong đại số tuyến tính, khi nhân 2 Point thì yied ra được một số\n",
    "- **functional programming style**: là kiểu thiết kế chương trình, mà phần lớn các hàm là pure functions\n",
    "- **modifier**: là hàm làm biến đổi thông số được pass vào. Hầu hết các modifier functions là void function\n",
    "- **normalized**: chuẩn hóa là dữ liệu được đưa về cùng một tỷ lệ, base trên một giới hạn nào đó\n",
    "- **operator overloading**: là phần mở rộng của các operator dựng sẵn (`+`, `-`, `*`, `/`, etc..) chúng tạo ra kết quả khác nhau với các loại thông số khác nhau. Ví dụ phép `+` thì kết quả khác nhau giữa strings và integers\n",
    "- **polymorphic**: một hàm có thể operate nhiều hơn một loại. Chú ý overloading thì có những hàm khác nhau cho các loại đối tượng khác nhau. Còn polymorphic là một hàm có thể dùng trên nhiều đối tượng có type khác nhau\n",
    "- **pure function**: là hàm không làm thay đổi bất kì đối tượng nào được pass làm thông số\n",
    "- **scalar multiplication**: là một phép tính trong đại số tuyến tính, dùng để nhân từng tọa độ của Point với một số vô hướng."
   ]
  }
 ],
 "metadata": {
  "kernelspec": {
   "display_name": "Python 3",
   "language": "python",
   "name": "python3"
  },
  "language_info": {
   "codemirror_mode": {
    "name": "ipython",
    "version": 3
   },
   "file_extension": ".py",
   "mimetype": "text/x-python",
   "name": "python",
   "nbconvert_exporter": "python",
   "pygments_lexer": "ipython3",
   "version": "3.6.6"
  }
 },
 "nbformat": 4,
 "nbformat_minor": 2
}
