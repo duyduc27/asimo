{
 "cells": [
  {
   "cell_type": "markdown",
   "metadata": {},
   "source": [
    "## 1.1 MyTime"
   ]
  },
  {
   "cell_type": "markdown",
   "metadata": {},
   "source": [
    "Định ra class MyTime để lưu lại thời gian trong ngày. Class định ra sẽ trông như thế này:"
   ]
  },
  {
   "cell_type": "code",
   "execution_count": 1,
   "metadata": {},
   "outputs": [],
   "source": [
    "class MyTime:\n",
    "    def __init__(self, hrs=0, mins= 0, secs=0):\n",
    "        \"\"\" Create a MyTime object initialized to hrs, mins, secs \"\"\"\n",
    "        self.hours = hrs\n",
    "        self.minutes = mins\n",
    "        self.seconds = secs"
   ]
  },
  {
   "cell_type": "code",
   "execution_count": 2,
   "metadata": {},
   "outputs": [
    {
     "data": {
      "text/plain": [
       "<__main__.MyTime at 0x24cee145748>"
      ]
     },
     "execution_count": 2,
     "metadata": {},
     "output_type": "execute_result"
    }
   ],
   "source": [
    "tim1 = MyTime(11, 59, 30)\n",
    "tim1"
   ]
  },
  {
   "cell_type": "code",
   "execution_count": 3,
   "metadata": {},
   "outputs": [
    {
     "data": {
      "text/plain": [
       "11"
      ]
     },
     "execution_count": 3,
     "metadata": {},
     "output_type": "execute_result"
    }
   ],
   "source": [
    "tim1.hours"
   ]
  },
  {
   "cell_type": "markdown",
   "metadata": {},
   "source": [
    "## 1.2 Pure functions"
   ]
  },
  {
   "cell_type": "markdown",
   "metadata": {},
   "source": [
    "Viết một hàm gọi là `add_time` để tổng thời gian giữa 2 objects. Cái này để chứng minh cho 2 loại function là pure function và modifier"
   ]
  },
  {
   "cell_type": "code",
   "execution_count": 4,
   "metadata": {},
   "outputs": [],
   "source": [
    "def add_time(t1, t2):\n",
    "    h = t1.hours + t2.hours\n",
    "    m = t1.minutes + t2.minutes\n",
    "    s = t1.seconds + t2.seconds\n",
    "    sum_t = MyTime(h, m, s)\n",
    "    return sum_t"
   ]
  },
  {
   "cell_type": "markdown",
   "metadata": {},
   "source": [
    "function này được tạo bởi object MyTime và gọi là **pure function** vì nó không chỉnh sửa gì bất kì đối tượng nào được pass làm thông số."
   ]
  },
  {
   "cell_type": "code",
   "execution_count": 11,
   "metadata": {},
   "outputs": [],
   "source": [
    "current_time = MyTime(9, 14, 30)\n",
    "bread_time = MyTime(3, 35, 0)\n",
    "done_time = add_time(current_time, bread_time)"
   ]
  },
  {
   "cell_type": "code",
   "execution_count": 6,
   "metadata": {},
   "outputs": [
    {
     "name": "stdout",
     "output_type": "stream",
     "text": [
      "12:49:30\n"
     ]
    }
   ],
   "source": [
    "print(\"{}:{}:{}\".format(done_time.hours, done_time.minutes, done_time.seconds))"
   ]
  },
  {
   "cell_type": "markdown",
   "metadata": {},
   "source": [
    "Kết quả đúng nhưng ở các case khác thì kết quả sẽ không đúng. Như trong trường hợp các case có các attributes như hours, minutes, seconds mà tổng giữa t1 và t2 lớn hơn 60. Ở dưới là một phiên bản tốt hơn."
   ]
  },
  {
   "cell_type": "code",
   "execution_count": 7,
   "metadata": {},
   "outputs": [],
   "source": [
    "def add_time(t1, t2):\n",
    "    h = t1.hours + t2.hours\n",
    "    m = t1.minutes + t2.minutes\n",
    "    s = t1.seconds + t2.seconds\n",
    "    \n",
    "    if s>= 60:\n",
    "        s -= 60\n",
    "        m += 1\n",
    "    \n",
    "    if m >= 60:\n",
    "        m -= 60\n",
    "        h +=1\n",
    "        \n",
    "    sum_t = MyTime(h, m, s) \n",
    "    return sum_t"
   ]
  },
  {
   "cell_type": "markdown",
   "metadata": {},
   "source": [
    "Hàm này đã trở nên lớn nhưng vẫn không hiệu quả với mọi trường hợp."
   ]
  },
  {
   "cell_type": "markdown",
   "metadata": {},
   "source": [
    "## 1.3 Modifiers"
   ]
  },
  {
   "cell_type": "markdown",
   "metadata": {},
   "source": [
    "Sẽ có những lúc hữu ích cho một hàm có thể chỉnh sửa một hoặc nhiều đối tượng khi đưa nó vào làm thông số. Những hàm hoạt động theo kiểu đó gọi là **modifiers**"
   ]
  },
  {
   "cell_type": "code",
   "execution_count": 8,
   "metadata": {},
   "outputs": [],
   "source": [
    "def increment(t, secs):\n",
    "    t.seconds += secs\n",
    "    \n",
    "    if t.seconds >= 60:\n",
    "        t.seconds -= 60\n",
    "        t.minutes +=1\n",
    "    \n",
    "    if t.minutes >= 60:\n",
    "        t.minutes -=60\n",
    "        t.hours += 1    "
   ]
  },
  {
   "cell_type": "markdown",
   "metadata": {},
   "source": [
    "Dòng đầu là một phép toán đơn giản, phần còn lại là cho các trường hợp đặc biệt mà ta gặp ở trên. Vấn đề là nếu các attribute này lớn hơn rất nhiều so với 60 thì nó lại chỉ tính có 1 lần. Vậy nên phù hợp là thay `if` bằng `while`"
   ]
  },
  {
   "cell_type": "code",
   "execution_count": 9,
   "metadata": {},
   "outputs": [],
   "source": [
    "def increment(t, secs):\n",
    "    t.seconds += secs\n",
    "    \n",
    "    while t.seconds >= 60:\n",
    "        t.seconds -= 60\n",
    "        t.minutes +=1\n",
    "    \n",
    "    while t.minutes >= 60:\n",
    "        t.minutes -=60\n",
    "        t.hours += 1  "
   ]
  },
  {
   "cell_type": "markdown",
   "metadata": {},
   "source": [
    "Hàm này đến giờ khá đúng nếu seconds không âm. Nhưng nếu thời gian vượt quá 23 giờ thì nó vẫn chưa phải giải pháp tốt."
   ]
  },
  {
   "cell_type": "markdown",
   "metadata": {},
   "source": [
    "## 1.4 Converting increment to a method"
   ]
  },
  {
   "cell_type": "markdown",
   "metadata": {},
   "source": [
    "Một người lập trình định hướng đối tượng sẽ muốn sử dụng các hàm hoạt động với các object thuộc MyTime vào class MyTime"
   ]
  },
  {
   "cell_type": "code",
   "execution_count": 10,
   "metadata": {},
   "outputs": [],
   "source": [
    "class MyTime:\n",
    "    def __init__(self, hrs=0, mins=0, secs=0):\n",
    "        self.hours = hrs\n",
    "        self.minutes = mins\n",
    "        self.seconds = secs\n",
    "    \n",
    "    def increment(self, seconds):\n",
    "        self.seconds += seconds\n",
    "        \n",
    "        while self.seconds >= 60:\n",
    "            self.seconds -=60\n",
    "            self.minutes +=1\n",
    "            \n",
    "        while self.minutes >= 60:\n",
    "            self.minutes -= 60\n",
    "            self.hours += 1        "
   ]
  },
  {
   "cell_type": "markdown",
   "metadata": {},
   "source": [
    "Việc chuyển đổi này khá máy móc. Ta đưa hàm này vào trong lúc định ra class MyTime. Và thay tham số đầu tiên là self. Thử với current_time như ở trên, thêm 500 giây."
   ]
  },
  {
   "cell_type": "code",
   "execution_count": 13,
   "metadata": {},
   "outputs": [
    {
     "name": "stdout",
     "output_type": "stream",
     "text": [
      "9:22:50\n"
     ]
    }
   ],
   "source": [
    "current_time = MyTime(9, 14, 30)\n",
    "current_time.increment(500)\n",
    "print(\"{}:{}:{}\".format(current_time.hours, current_time.minutes, current_time.seconds))"
   ]
  },
  {
   "cell_type": "markdown",
   "metadata": {},
   "source": [
    "## 1.5 An “Aha!” insight"
   ]
  },
  {
   "cell_type": "markdown",
   "metadata": {},
   "source": [
    "Thông thường có một cái nhìn insight hơn trong bài toán thì có thể giúp việc lập trình dễ hơn. Trong trường hợp này, insight của object MyTime là 3 chữ số base trên 60. Được chia làm 3 cột hours, minutes và seconds. Các quan sát này gợi ý cho một cách tiếp cận khác của cả vấn đề. Đó là convert MyTime object thành 1 cột seconds."
   ]
  },
  {
   "cell_type": "code",
   "execution_count": 4,
   "metadata": {},
   "outputs": [],
   "source": [
    "class MyTime:\n",
    "    def __init__(self, hrs=0, mins=0, secs=0):     \n",
    "        \n",
    "        \"\"\" Create a new MyTime object initialized to hrs, mins, secs.\n",
    "           The values of mins and secs may be outside the range 0-59,\n",
    "           but the resulting MyTime object will be normalized.\n",
    "        \"\"\"\n",
    "        # Calculate total seconds to represent\n",
    "        \n",
    "        totalsecs = hrs*3600 + mins*60 + secs\n",
    "        self.hours = totalsecs // 3600\n",
    "        leftoversecs = totalsecs % 3600\n",
    "        self.minutes = leftoversecs //60\n",
    "        self.seconds = leftoversecs % 60\n",
    "    \n",
    "    def to_seconds(self):\n",
    "        \"\"\" Return the number of seconds represented\n",
    "            by this instance\n",
    "        \"\"\"\n",
    "        return self.hours*3600 + self.minutes*60 + self.seconds"
   ]
  },
  {
   "cell_type": "markdown",
   "metadata": {},
   "source": [
    "Khối code từ line 10 đến 14 để chuẩn hóa lại các giá trị thời gian."
   ]
  },
  {
   "cell_type": "markdown",
   "metadata": {},
   "source": [
    "Ở trong lập trình định hướng đối tượng, chúng ta thật sự muốn gói dữ liệu và hoạt động lại cùng nhau. Nên chúng ta sẽ muốn làm như vậy trong class MyTime. Một giải pháp tốt là viết lại khởi tạo class, điều đó có thể giúp đương đầu với những giá trị _phút_ và _giây_ nằm ngoài chuẩn hóa. Ví dụ 3 hours 80 minutes 121 seconds thì nên được chuẩn hóa về 4 hours 22 minutes 1 second"
   ]
  },
  {
   "cell_type": "code",
   "execution_count": 7,
   "metadata": {},
   "outputs": [
    {
     "name": "stdout",
     "output_type": "stream",
     "text": [
      "4:22:1\n"
     ]
    }
   ],
   "source": [
    "nomalized_time = MyTime(3, 80, 121)\n",
    "print(\"{}:{}:{}\".format(nomalized_time.hours, nomalized_time.minutes, nomalized_time.seconds))"
   ]
  },
  {
   "cell_type": "code",
   "execution_count": 5,
   "metadata": {},
   "outputs": [],
   "source": [
    "def add_time(t1, t2):\n",
    "    secs = t1.to_seconds() + t2.to_seconds()\n",
    "    return MyTime(0, 0, secs)"
   ]
  },
  {
   "cell_type": "code",
   "execution_count": 6,
   "metadata": {},
   "outputs": [
    {
     "name": "stdout",
     "output_type": "stream",
     "text": [
      "12:49:30\n"
     ]
    }
   ],
   "source": [
    "current_time = MyTime(9, 14, 30)\n",
    "bread_time = MyTime(3, 35, 0)\n",
    "done_time = add_time(current_time, bread_time)\n",
    "print(\"{}:{}:{}\".format(done_time.hours, done_time.minutes, done_time.seconds))"
   ]
  },
  {
   "cell_type": "markdown",
   "metadata": {},
   "source": [
    "## 1.6 Another example"
   ]
  },
  {
   "cell_type": "code",
   "execution_count": null,
   "metadata": {},
   "outputs": [],
   "source": []
  }
 ],
 "metadata": {
  "kernelspec": {
   "display_name": "Python 3",
   "language": "python",
   "name": "python3"
  },
  "language_info": {
   "codemirror_mode": {
    "name": "ipython",
    "version": 3
   },
   "file_extension": ".py",
   "mimetype": "text/x-python",
   "name": "python",
   "nbconvert_exporter": "python",
   "pygments_lexer": "ipython3",
   "version": "3.6.6"
  }
 },
 "nbformat": 4,
 "nbformat_minor": 2
}
