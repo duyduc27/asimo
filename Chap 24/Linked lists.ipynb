{
 "cells": [
  {
   "cell_type": "markdown",
   "metadata": {},
   "source": [
    "## 1.1 Embedded references"
   ]
  },
  {
   "cell_type": "markdown",
   "metadata": {},
   "source": [
    "Chúng ta đã từng thấy những ví dụ về các attributes dựa vào một đối tượng khác, chúng ta gọi là **embedded references**. Một cấu trúc dữ liệu thông thường **linked list**, hưởng lợi từ feature này.<br>\n",
    "Linked lists được tạo từ các **nodes**, mỗi node thì chứa một trích dẫn đến một node khác trong list. Thêm nữa, mỗi node chứa một đơn vị dữ liệu, gọi là **cargo**<br>\n",
    "Một linked list thì được cho là một cấu trúc dữ liệu đệ quy bởi vì nó có định ra một đệ quy.<br>\n",
    "Một linked list thì là cả:<br>\n",
    "- Một empty list đại diện cho `None` hay\n",
    "- Một node chứa một object cargo và một đường dẫn đến một linked list"
   ]
  },
  {
   "cell_type": "markdown",
   "metadata": {},
   "source": [
    "## 1.2 The Node class"
   ]
  },
  {
   "cell_type": "markdown",
   "metadata": {},
   "source": [
    "Thông thường khi viết một class mới, chúng ta sẽ bắt đầu với việc khởi tạo và method `__str__` cho ta có thể thử bộ máy cơ bản của việc tạo và thể hiện trong type mới này:"
   ]
  },
  {
   "cell_type": "code",
   "execution_count": 1,
   "metadata": {},
   "outputs": [],
   "source": [
    "class Node:\n",
    "    def __init__(self, cargo=None, next=None):\n",
    "        self.cargo = cargo\n",
    "        self.next = next\n",
    "        \n",
    "    def __str__(self):\n",
    "        return str(self.cargo)"
   ]
  },
  {
   "cell_type": "markdown",
   "metadata": {},
   "source": [
    "Như thông thường, thông số trong method khởi tạo là tùy chọn. Mặc định, cả cargo và kết nối next đều được set là `None`<br>\n",
    "String được đại diện của một node chỉ là string được đại diện cho cargo. Vì dùng `str` function nên bất kì giá trị nào đưa vào cũng có thể trữ lại trong 1 list."
   ]
  },
  {
   "cell_type": "code",
   "execution_count": 3,
   "metadata": {},
   "outputs": [
    {
     "name": "stdout",
     "output_type": "stream",
     "text": [
      "test\n"
     ]
    }
   ],
   "source": [
    "node = Node(\"test\")\n",
    "print(node)"
   ]
  },
  {
   "cell_type": "code",
   "execution_count": 4,
   "metadata": {},
   "outputs": [],
   "source": [
    "node1 = Node(1)\n",
    "node2 = Node(2)\n",
    "node3 = Node(3)"
   ]
  },
  {
   "cell_type": "markdown",
   "metadata": {},
   "source": [
    "Dù ở trên đã tạo ra 3 nodes nhưng ta vẫn chưa có list. Lý do là bởi các node này chưa linked (kết nối) với nhau.<br>\n",
    "Để link các node này lại thì ta dùng node thứ 1 link với node thứ 2 và node thứ 2 link với node thứ 3."
   ]
  },
  {
   "cell_type": "code",
   "execution_count": 5,
   "metadata": {},
   "outputs": [],
   "source": [
    "node1.next = node2\n",
    "node2.next = node3"
   ]
  },
  {
   "cell_type": "markdown",
   "metadata": {},
   "source": [
    "Trích dẫn cuối cùng của node 3 là None. Giờ chúng ta đã biết cách tạo các node và nối nó thành 1 list. Nhưng vẫn chưa rõ làm thế để làm gì?"
   ]
  },
  {
   "cell_type": "markdown",
   "metadata": {},
   "source": [
    "## 1.3 Lists as collections"
   ]
  },
  {
   "cell_type": "markdown",
   "metadata": {},
   "source": [
    "List thì hữu ích vì chúng cung cấp một cách để tập hợp nhiều đối tượng thành một thực thể nguyên, thỉnh thoảng còn được gọi là **collection** (tập). Trong ví dụ này, thì node đầu tiên của list này đã thể hiện như một đường dẫn đến toàn bộ list.<br>\n",
    "Để pass list này làm thông số. Ta chỉ cần pass đường dẫn của node đầu tiên. Ví dụ hàm `print_list` nhận một node làm thông số. Bắt đầu từ đầu list và in đến cuối list."
   ]
  },
  {
   "cell_type": "code",
   "execution_count": 6,
   "metadata": {},
   "outputs": [],
   "source": [
    "def print_list(node):\n",
    "    while node is not None:\n",
    "        print(node, end=\" \")\n",
    "        node = node.next\n",
    "    print()"
   ]
  },
  {
   "cell_type": "code",
   "execution_count": 7,
   "metadata": {},
   "outputs": [
    {
     "name": "stdout",
     "output_type": "stream",
     "text": [
      "1 2 3 \n"
     ]
    }
   ],
   "source": [
    "print_list(node1)"
   ]
  },
  {
   "cell_type": "markdown",
   "metadata": {},
   "source": [
    "Bên trong hàm print_list này, chúng ta có đường dẫn tới node đầu tiên trong list nhưng không có biến dẫn đến node còn lại. Chúng ta sử dụng next value từ mỗi node để đi đến node khác."
   ]
  },
  {
   "cell_type": "markdown",
   "metadata": {},
   "source": [
    "## 1.4 Lists and recursion"
   ]
  },
  {
   "cell_type": "markdown",
   "metadata": {},
   "source": [
    "Nó thì tự nhiên để thể hiện nhiều hoạt động của list qua việc dùng method đệ quy. Ví dụ dùng thuật toán đệ quy để in ra list backward ngược:\n",
    "- Tách list ra làm 2 phần, node đầu tiên (gọi là head) và phần còn lại (gọi là tail)\n",
    "- In phần đuôi\n",
    "- In phần đầu\n",
    "\n",
    "Ở bước thứ 2, tất nhiên là gọi đệ quy, giả sử chúng ta đã có một cách để print list backward. Nhưng nếu giả sử rằng gọi đệ quy hoạt động thì ta mới có thể thuyết phục bản thân là thuật toán này dùng được."
   ]
  },
  {
   "cell_type": "code",
   "execution_count": 8,
   "metadata": {},
   "outputs": [],
   "source": [
    "def print_backward(list):\n",
    "    if list is None: return\n",
    "    head = list\n",
    "    tail = list.next\n",
    "    print_backward(tail)\n",
    "    print(head , end=' ')"
   ]
  },
  {
   "cell_type": "markdown",
   "metadata": {},
   "source": [
    "Dòng đầu của hàm là base case, không làm gì cả. Hai dòng sau tách list thành head và tail. Hai hàng cuối để print list. Thông số `end` của lệnh print giữ cho Python khỏi in ra hàng mới sau mỗi node"
   ]
  },
  {
   "cell_type": "code",
   "execution_count": 9,
   "metadata": {},
   "outputs": [
    {
     "name": "stdout",
     "output_type": "stream",
     "text": [
      "3 2 1 "
     ]
    }
   ],
   "source": [
    "print_backward(node1)"
   ]
  },
  {
   "cell_type": "markdown",
   "metadata": {},
   "source": [
    "Lý do `print_list` và `print_backward` để hàm riêng chứ không phải method trong class `Node` là vì chúng ta muốn sử dụng None để đại diện cho empty list và nó không hợp lệ để triệu lên method trên None. Giới hạn này khiến nó bất tiện để viết thành list - thao tác code theo phong cách thuần định hướng đối tượng.<br>\n",
    "Liệu `print_backward` có luôn luôn kết thúc rồi dừng không? Nói cách khác, liệu nó có đi đến base case được không? Thực tế câu trả lời là không, một vài list khiến cho method này bị crash."
   ]
  },
  {
   "cell_type": "code",
   "execution_count": 21,
   "metadata": {},
   "outputs": [
    {
     "data": {
      "text/plain": [
       "False"
      ]
     },
     "execution_count": 21,
     "metadata": {},
     "output_type": "execute_result"
    }
   ],
   "source": [
    "node1 is None"
   ]
  }
 ],
 "metadata": {
  "kernelspec": {
   "display_name": "Python 3",
   "language": "python",
   "name": "python3"
  },
  "language_info": {
   "codemirror_mode": {
    "name": "ipython",
    "version": 3
   },
   "file_extension": ".py",
   "mimetype": "text/x-python",
   "name": "python",
   "nbconvert_exporter": "python",
   "pygments_lexer": "ipython3",
   "version": "3.6.6"
  }
 },
 "nbformat": 4,
 "nbformat_minor": 2
}
